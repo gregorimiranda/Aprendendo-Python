{
  "nbformat": 4,
  "nbformat_minor": 0,
  "metadata": {
    "colab": {
      "provenance": [],
      "collapsed_sections": [
        "tZ0-7FqZNp5u",
        "rRlj2VFvNntZ"
      ],
      "toc_visible": true,
      "authorship_tag": "ABX9TyNEN0BfhvtwdfPrXHGSmC3B"
    },
    "kernelspec": {
      "name": "python3",
      "display_name": "Python 3"
    },
    "language_info": {
      "name": "python"
    }
  },
  "cells": [
    {
      "cell_type": "markdown",
      "source": [
        "# **1. Aprendendo a usar o Google Colab**"
      ],
      "metadata": {
        "id": "tZ0-7FqZNp5u"
      }
    },
    {
      "cell_type": "markdown",
      "source": [
        "## **1.1 Escrevendo a função Print**"
      ],
      "metadata": {
        "id": "rRlj2VFvNntZ"
      }
    },
    {
      "cell_type": "code",
      "source": [
        "print(\"Olá, mundo!\")"
      ],
      "metadata": {
        "colab": {
          "base_uri": "https://localhost:8080/"
        },
        "id": "QHjrwEb1N0E4",
        "outputId": "0dd2357c-657c-459f-c4ad-f061f11a98e9"
      },
      "execution_count": null,
      "outputs": [
        {
          "output_type": "stream",
          "name": "stdout",
          "text": [
            "Olá, mundo!\n"
          ]
        }
      ]
    },
    {
      "cell_type": "markdown",
      "source": [
        "# **2. Variáveis e tipos de dados**"
      ],
      "metadata": {
        "id": "gawMtKxoQjWG"
      }
    },
    {
      "cell_type": "markdown",
      "source": [
        "## **2.1 Incluindo variáveis**"
      ],
      "metadata": {
        "id": "3tIHlYceSigw"
      }
    },
    {
      "cell_type": "code",
      "source": [
        "# É importante que o nome das variáveis sigam as boas práticas, nesse caso, estamos usando a snake case que é uma forma de escrita,  onde a variável com mais de uma palava é separada por um underscore. É uma convenção, não uma regra. É importante que o nome da variável seja representativo e específico. \n",
        "# a \"#\" é usada antes de comentários. Comentários não interferem no código, mas auxilia na documentação do código e na colaboração entre desenvolvedores. \n",
        "\n",
        "idade = 30\n",
        "print(idade)\n",
        "\n",
        "idade = 23\n",
        "print(idade)\n",
        "\n",
        "nome = \"Gregori\"\n",
        "print(nome)\n"
      ],
      "metadata": {
        "colab": {
          "base_uri": "https://localhost:8080/"
        },
        "id": "Y66PfoktR3yx",
        "outputId": "9567f762-a0eb-4538-9460-d03a459ae1e7"
      },
      "execution_count": 11,
      "outputs": [
        {
          "output_type": "stream",
          "name": "stdout",
          "text": [
            "30\n",
            "23\n",
            "Gregori\n"
          ]
        }
      ]
    },
    {
      "cell_type": "markdown",
      "source": [
        "\n",
        "\n",
        "*   ### **Tipos númericos** \n",
        " * *Inteiros e decimais* (int e float)\n",
        "*   ### **Tipos de textos** \n",
        " * *strings* (str)\n",
        "*   ### **Tipos lógicos** \n",
        " * *Booleanos* (bool)\n",
        "*   ### **Tipos vazios**\n",
        " * *None* (NoneType)\n",
        "\n",
        "\n",
        "\n"
      ],
      "metadata": {
        "id": "ldX5S61jTK5V"
      }
    },
    {
      "cell_type": "markdown",
      "source": [
        "## **2.2 Tipos de variáveis**"
      ],
      "metadata": {
        "id": "KI1iqpGGSrFA"
      }
    },
    {
      "cell_type": "markdown",
      "source": [
        "## **Numéricos (Int & Float)**"
      ],
      "metadata": {
        "id": "eyGIQZwch_lK"
      }
    },
    {
      "cell_type": "code",
      "source": [
        "# Int são os números naturais (inteiros)\n",
        "# Float são os números reais (decimais)\n",
        "#Você pode utilizar a função type para imprimir na tela o tipo de dado utilizado\n",
        "\n",
        "preco_da_banana = 1\n",
        "tipo_de_preco = type(preco_da_banana)\n",
        "\n",
        "juros = 0.15\n",
        "tipo_de_juros = type(juros)\n",
        "\n",
        "print(preco_da_banana)\n",
        "print(tipo_de_preco)\n",
        "\n",
        "print(juros)\n",
        "print(tipo_de_juros)\n"
      ],
      "metadata": {
        "id": "R7dwY_blSp-d",
        "colab": {
          "base_uri": "https://localhost:8080/"
        },
        "outputId": "3c2511a5-9d68-417f-a342-2b419d414867"
      },
      "execution_count": null,
      "outputs": [
        {
          "output_type": "stream",
          "name": "stdout",
          "text": [
            "1\n",
            "<class 'int'>\n",
            "0.15\n",
            "<class 'float'>\n"
          ]
        }
      ]
    },
    {
      "cell_type": "markdown",
      "source": [
        "## **Textuais (Strings)**"
      ],
      "metadata": {
        "id": "xUleAldLSfZ4"
      }
    },
    {
      "cell_type": "code",
      "source": [
        "#Um nome para string no python é \"Str\"\n",
        "#Você pode utilizar a função type dentro de print\n",
        "\n",
        "\n",
        "primeiro_nome = \"Gregori\"\n",
        "print(primeiro_nome)\n",
        "print(type(primeiro_nome))\n",
        "\n",
        "sobrenome = \"Miranda\"\n",
        "print(sobrenome)\n",
        "print(type(sobrenome))\n",
        "\n"
      ],
      "metadata": {
        "id": "8oL_6mrriIc0",
        "colab": {
          "base_uri": "https://localhost:8080/"
        },
        "outputId": "9a90fde1-95a8-4118-fc53-605e64a79474"
      },
      "execution_count": 6,
      "outputs": [
        {
          "output_type": "stream",
          "name": "stdout",
          "text": [
            "Gregori\n",
            "<class 'str'>\n",
            "Miranda\n",
            "<class 'str'>\n"
          ]
        }
      ]
    },
    {
      "cell_type": "markdown",
      "source": [
        "## **Booleanas (True;False)**\n"
      ],
      "metadata": {
        "id": "pTp_bFt5Vb1F"
      }
    },
    {
      "cell_type": "code",
      "source": [
        "# Sempre começam com a letra maiúscula\n",
        "# É uma boa prática nomear a variável como uma pergunta, sem de fato, utilzizar interrogação. \n",
        "# O python chama essas variáveis de Bool\n",
        "\n",
        "usuario_maior_de_idade = True\n",
        "print(usuario_maior_de_idade)\n",
        "print(type(usuario_maior_de_idade))\n"
      ],
      "metadata": {
        "colab": {
          "base_uri": "https://localhost:8080/"
        },
        "id": "xHE5skkcUwbf",
        "outputId": "f335818a-c67e-4d91-ee97-4c0390030948"
      },
      "execution_count": 8,
      "outputs": [
        {
          "output_type": "stream",
          "name": "stdout",
          "text": [
            "<class 'bool'>\n"
          ]
        }
      ]
    },
    {
      "cell_type": "markdown",
      "source": [
        "## **Vazio (NoneType)**"
      ],
      "metadata": {
        "id": "aCoSc4jCWTpS"
      }
    },
    {
      "cell_type": "code",
      "source": [
        "# O tipo vazio é importante para declararmos ausência de valor, não confunda valor com informação. \"A ausência de valor também é uma informação!\". \n",
        "\n",
        "\n",
        "telefone_fixo = None\n",
        "print(telefone_fixo)\n",
        "print(type(telefone_fixo))"
      ],
      "metadata": {
        "colab": {
          "base_uri": "https://localhost:8080/"
        },
        "id": "V-bV7NjHWO4j",
        "outputId": "7cb0070f-aa18-428a-fb10-9d3a61aa7af5"
      },
      "execution_count": 10,
      "outputs": [
        {
          "output_type": "stream",
          "name": "stdout",
          "text": [
            "None\n",
            "<class 'NoneType'>\n"
          ]
        }
      ]
    }
  ]
}