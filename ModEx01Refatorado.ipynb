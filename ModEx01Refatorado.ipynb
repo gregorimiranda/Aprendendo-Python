{
  "cells": [
    {
      "attachments": {},
      "cell_type": "markdown",
      "metadata": {
        "id": "KJqp9AANOCtf"
      },
      "source": [
        "<img src=\"https://raw.githubusercontent.com/andre-marcos-perez/ebac-course-utils/main/media/logo/newebac_logo_black_half.png\" alt=\"ebac-logo\">\n",
        "\n",
        "---\n",
        "\n",
        "# **Módulo 01** | Python: Variáveis & Tipos de Dados\n",
        "Caderno de **Exercícios**<br> \n",
        "Professor [André Perez](https://www.linkedin.com/in/andremarcosperez/)\n",
        "\n",
        "---"
      ]
    },
    {
      "attachments": {},
      "cell_type": "markdown",
      "metadata": {
        "id": "d9jDtUbDOE1-"
      },
      "source": [
        "# **Tópicos**\n",
        "\n",
        "<ol type=\"1\">\n",
        "  <li>Introdução ao Google Colab;</li>\n",
        "  <li>Variáveis;</li>\n",
        "  <li>Números;</li>\n",
        "  <li><i>Strings;</i></li>\n",
        "  <li>Boleanos.</li>\n",
        "</ol>"
      ]
    },
    {
      "attachments": {},
      "cell_type": "markdown",
      "metadata": {
        "id": "SmoHgt-lwkpD"
      },
      "source": [
        "---"
      ]
    },
    {
      "attachments": {},
      "cell_type": "markdown",
      "metadata": {
        "id": "GABI6OW8OfQ2"
      },
      "source": [
        "# **Exercícios**"
      ]
    },
    {
      "attachments": {},
      "cell_type": "markdown",
      "metadata": {
        "id": "muD1vxozykSC"
      },
      "source": [
        "## 1\\. Google Colab"
      ]
    },
    {
      "attachments": {},
      "cell_type": "markdown",
      "metadata": {
        "id": "ahrFfCuBxJKs"
      },
      "source": [
        "Crie uma célula de código que escreva o texto \"Olá mundo!\", utilize o comando `print`."
      ]
    },
    {
      "attachments": {},
      "cell_type": "markdown",
      "metadata": {
        "id": "KI9zQRT2xa7m"
      },
      "source": [
        "Crie uma célula de texto e adicione uma imagem."
      ]
    },
    {
      "attachments": {},
      "cell_type": "markdown",
      "metadata": {
        "id": "zMN1Q3jdwoJm"
      },
      "source": [
        "---"
      ]
    },
    {
      "cell_type": "code",
      "execution_count": 8,
      "metadata": {},
      "outputs": [],
      "source": [
        "import pandas as pd"
      ]
    },
    {
      "cell_type": "code",
      "execution_count": null,
      "metadata": {
        "colab": {
          "base_uri": "https://localhost:8080/"
        },
        "id": "2wJCDYc-agE9",
        "outputId": "57a9bda7-4d6a-4dec-e4fc-752b15b1fa64"
      },
      "outputs": [
        {
          "name": "stdout",
          "output_type": "stream",
          "text": [
            "Olá, mundo!\n"
          ]
        }
      ],
      "source": [
        "print(\"Olá, mundo!\")"
      ]
    },
    {
      "attachments": {},
      "cell_type": "markdown",
      "metadata": {
        "id": "tKzupiqobCdU"
      },
      "source": [
        "<a href=\"https://www.tripadvisor.com.br/LocationPhotos-g303272-Salvador_State_of_Bahia.html#60501510\"><img alt=\"\" src=\"https://media-cdn.tripadvisor.com/media/photo-s/03/9b/2e/06/salvador.jpg\"/></a><br/> \n",
        "\n",
        "Essa é Salvador, minha cidade natal.\n",
        "*Fonte: Tripadvisor.*"
      ]
    },
    {
      "attachments": {},
      "cell_type": "markdown",
      "metadata": {
        "id": "tFYOPLS3xiwe"
      },
      "source": [
        "## 2\\. Números"
      ]
    },
    {
      "attachments": {},
      "cell_type": "markdown",
      "metadata": {
        "id": "O2G9gt7tx2c-"
      },
      "source": [
        "Preencha as células de código para preencher os valores de (A), (B) e (C) na tabela de ticket médio abaixo:\n",
        "\n",
        "<br>\n",
        "\n",
        "| Dia   | Valor Total Vendas | Qtd Total Vendas | Ticket Medio |\n",
        "|-------|--------------------|------------------|--------------|\n",
        "| 19/01 | (A)                | 3                | 320.52       |\n",
        "| 20/01 | 834.47             | (B)              | 119.21       |\n",
        "| 23/01 | 15378.12           | 5                | (C)          |"
      ]
    },
    {
      "cell_type": "code",
      "execution_count": 38,
      "metadata": {},
      "outputs": [
        {
          "name": "stdout",
          "output_type": "stream",
          "text": [
            "                     dia19   dia20     dia21\n",
            "data                    19      20        21\n",
            "valor_total_vendas       a  834.47  15378.12\n",
            "qtd_total_vendas         3       b         5\n",
            "ticket_medio        320.52  119.21         c\n"
          ]
        }
      ],
      "source": [
        "valores = {\n",
        "    'dia19': {\n",
        "        'data': 19,\n",
        "        'valor_total_vendas': 'a',\n",
        "        'qtd_total_vendas': 3,\n",
        "        'ticket_medio': 320.52\n",
        "    },\n",
        "    'dia20': {\n",
        "        'data': 20,\n",
        "        'valor_total_vendas': 834.47,\n",
        "        'qtd_total_vendas': 'b',\n",
        "        'ticket_medio': 119.21\n",
        "    },\n",
        "    'dia21': {\n",
        "        'data': 21,\n",
        "        'valor_total_vendas': 15378.12,\n",
        "        'qtd_total_vendas': 5,\n",
        "        'ticket_medio': 'c'\n",
        "    }\n",
        "}\n",
        "  \n",
        "valores = pd.DataFrame(valores)\n",
        "print(valores)"
      ]
    },
    {
      "cell_type": "code",
      "execution_count": 39,
      "metadata": {},
      "outputs": [
        {
          "name": "stdout",
          "output_type": "stream",
          "text": [
            "                     dia19   dia20     dia21\n",
            "data                    19      20        21\n",
            "valor_total_vendas  961.56  834.47  15378.12\n",
            "qtd_total_vendas         3     7.0         5\n",
            "ticket_medio        320.52  119.21  3075.624\n"
          ]
        }
      ],
      "source": [
        "valores_df = pd.DataFrame(valores)\n",
        "def calculo():\n",
        "    for i, valor in valores_df.items():\n",
        "        if isinstance(valor['valor_total_vendas'], str):\n",
        "            resultado = valor['qtd_total_vendas'] * valor['ticket_medio']\n",
        "            valor['valor_total_vendas'] = resultado\n",
        "        elif isinstance(valor['qtd_total_vendas'], str):\n",
        "            resultado = valor['valor_total_vendas'] / valor['ticket_medio']\n",
        "            valor['qtd_total_vendas'] = resultado\n",
        "        else:\n",
        "            resultado = valor['valor_total_vendas'] / valor['qtd_total_vendas']\n",
        "            valor['ticket_medio'] = resultado\n",
        "\n",
        "calculo()\n",
        "print(valores_df)\n"
      ]
    },
    {
      "attachments": {},
      "cell_type": "markdown",
      "metadata": {
        "id": "3eoP-Vj9yzh8"
      },
      "source": [
        "---"
      ]
    },
    {
      "attachments": {},
      "cell_type": "markdown",
      "metadata": {
        "id": "yUJ6kdony6Pr"
      },
      "source": [
        "## 3\\. Strings"
      ]
    },
    {
      "attachments": {},
      "cell_type": "markdown",
      "metadata": {
        "id": "KDuZpg-5zCvO"
      },
      "source": [
        "Aplique três métodos distintos na *string* abaixo, você pode conferir alguns métodos neste [link](https://www.w3schools.com/python/python_ref_string.asp):"
      ]
    },
    {
      "cell_type": "code",
      "execution_count": null,
      "metadata": {
        "colab": {
          "base_uri": "https://localhost:8080/"
        },
        "id": "k9zbyf7BzjKj",
        "outputId": "ec33d4de-b80f-41e4-d240-b0672c80d455"
      },
      "outputs": [
        {
          "name": "stdout",
          "output_type": "stream",
          "text": [
            "3\n",
            "RODA MUNDO, RODA GIGANTE, RODA MOINHO, RODA PIÃO.\n",
            "31\n"
          ]
        }
      ],
      "source": [
        "cancao = 'Roda mundo, roda gigante, roda moinho, roda pião.'\n",
        "itens = cancao.count(\"roda\")\n",
        "print(itens)\n",
        "upper = cancao.upper()\n",
        "print(upper)\n",
        "find = cancao.find(\"mo\")\n",
        "print(find)\n"
      ]
    },
    {
      "attachments": {},
      "cell_type": "markdown",
      "metadata": {
        "id": "guZMHXVq0FnC"
      },
      "source": [
        "Extraia da string abaixo o valor da taxa **selic** na variável `selic` e o valor do **ano** na variavel `ano`. Imprima os valores na tela."
      ]
    },
    {
      "cell_type": "code",
      "execution_count": 3,
      "metadata": {
        "colab": {
          "base_uri": "https://localhost:8080/"
        },
        "id": "cbx_P4IQ0agK",
        "outputId": "50143a8a-7e7b-4495-b8e7-bbb3ad4ff53b"
      },
      "outputs": [
        {
          "name": "stdout",
          "output_type": "stream",
          "text": [
            "A taxa Selic é 2,75% e o ano é 6\n"
          ]
        }
      ],
      "source": [
        "noticia = 'Selic vai a 2,75% e supera expectativas; é a primeira alta em 6 anos.'\n",
        "posicao_selic = noticia.find(\"2,75%\")\n",
        "posicao_ano = noticia.find(\"6 anos\")\n",
        "\n",
        "selic = noticia[12:17]\n",
        "ano = noticia[-7]\n",
        "print(f'A taxa Selic é {selic} e o ano é {ano}')\n"
      ]
    },
    {
      "attachments": {},
      "cell_type": "markdown",
      "metadata": {
        "id": "wWzbu-OC0z3L"
      },
      "source": [
        "---"
      ]
    },
    {
      "attachments": {},
      "cell_type": "markdown",
      "metadata": {
        "id": "no8w_Ati01xP"
      },
      "source": [
        "## 4\\. Booleanos"
      ]
    },
    {
      "attachments": {},
      "cell_type": "markdown",
      "metadata": {
        "id": "D_0tC3SC099N"
      },
      "source": [
        ":Utilize a tabela da verdade para responder: qual o valor da variável x?"
      ]
    },
    {
      "cell_type": "code",
      "execution_count": 4,
      "metadata": {
        "colab": {
          "base_uri": "https://localhost:8080/"
        },
        "id": "XwIEbxf91SpU",
        "outputId": "1dc5279d-62a5-427d-b544-4ebc12c532d0"
      },
      "outputs": [
        {
          "name": "stdout",
          "output_type": "stream",
          "text": [
            "True\n"
          ]
        }
      ],
      "source": [
        "a = False\n",
        "b = True\n",
        "\n",
        "x = not a & b\n",
        "print(x)\n",
        "\n"
      ]
    }
  ],
  "metadata": {
    "colab": {
      "provenance": []
    },
    "kernelspec": {
      "display_name": "Python 3",
      "name": "python3"
    },
    "language_info": {
      "codemirror_mode": {
        "name": "ipython",
        "version": 3
      },
      "file_extension": ".py",
      "mimetype": "text/x-python",
      "name": "python",
      "nbconvert_exporter": "python",
      "pygments_lexer": "ipython3",
      "version": "3.11.4"
    }
  },
  "nbformat": 4,
  "nbformat_minor": 0
}
