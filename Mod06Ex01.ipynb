{
 "cells": [
  {
   "attachments": {},
   "cell_type": "markdown",
   "metadata": {
    "id": "KJqp9AANOCtf"
   },
   "source": [
    "<img src=\"https://raw.githubusercontent.com/andre-marcos-perez/ebac-course-utils/main/media/logo/newebac_logo_black_half.png\" alt=\"ebac-logo\">\n",
    "\n",
    "---\n",
    "\n",
    "# **Módulo** | Python: Programação Orientada a Objetos\n",
    "Caderno de **Exercícios**<br> \n",
    "Professor [André Perez](https://www.linkedin.com/in/andremarcosperez/)\n",
    "\n",
    "---"
   ]
  },
  {
   "attachments": {},
   "cell_type": "markdown",
   "metadata": {
    "id": "d9jDtUbDOE1-"
   },
   "source": [
    "# **Tópicos**\n",
    "\n",
    "<ol type=\"1\">\n",
    "  <li>Um pouco de teoria;</li>\n",
    "  <li>Classes;</li>\n",
    "  <li>Objetos;</li>\n",
    "  <li>Herança.</li>\n",
    "</ol>"
   ]
  },
  {
   "attachments": {},
   "cell_type": "markdown",
   "metadata": {
    "id": "SmoHgt-lwkpD"
   },
   "source": [
    "---"
   ]
  },
  {
   "attachments": {},
   "cell_type": "markdown",
   "metadata": {
    "id": "GABI6OW8OfQ2"
   },
   "source": [
    "# **Exercícios**"
   ]
  },
  {
   "attachments": {},
   "cell_type": "markdown",
   "metadata": {
    "id": "syVczIAwGO3A"
   },
   "source": [
    "## 0\\. Preparação do ambiente"
   ]
  },
  {
   "attachments": {},
   "cell_type": "markdown",
   "metadata": {
    "id": "2X3TrxdzGO3C"
   },
   "source": [
    "Neste exercício vamos trabalhar com os arquivos de csv e texto definidos abaixo. Execute cada uma das células de código para escrever os arquivos na sua máquina virtual."
   ]
  },
  {
   "attachments": {},
   "cell_type": "markdown",
   "metadata": {
    "id": "u0uFuhRSq_hQ"
   },
   "source": [
    "* **carros.csv**: arquivo csv com informações sobre carros (venda, manutenção, portas, etc.)."
   ]
  },
  {
   "cell_type": "code",
   "execution_count": 66,
   "metadata": {
    "colab": {
     "base_uri": "https://localhost:8080/"
    },
    "id": "daMf-xaXqKs2",
    "outputId": "aeceb239-3983-487e-a324-62eaced7e5d3"
   },
   "outputs": [
    {
     "name": "stdout",
     "output_type": "stream",
     "text": [
      "Overwriting carros.csv\n"
     ]
    }
   ],
   "source": [
    "%%writefile carros.csv\n",
    "id,valor_venda,valor_manutencao,portas,pessoas,porta_malas\n",
    "1,vhigh,med,2,2,small\n",
    "2,med,vhigh,2,2,small\n",
    "3,low,vhigh,2,2,small\n",
    "4,low,high,2,2,small\n",
    "5,low,high,2,2,small\n",
    "6,low,high,4,4,big\n",
    "7,low,high,4,4,big\n",
    "8,low,med,2,2,small\n",
    "9,low,med,2,2,small\n",
    "10,low,med,2,2,small\n",
    "11,low,med,4,4,big\n",
    "12,low,low,2,2,small\n",
    "13,low,low,4,4,small\n",
    "14,low,low,4,4,med"
   ]
  },
  {
   "attachments": {},
   "cell_type": "markdown",
   "metadata": {
    "id": "X0Z2PhbCrTz1"
   },
   "source": [
    "* **musica.txt**: arquivo texto com a letra da música Roda Viva do Chico Buarque."
   ]
  },
  {
   "cell_type": "code",
   "execution_count": 67,
   "metadata": {
    "colab": {
     "base_uri": "https://localhost:8080/"
    },
    "id": "m7Ge2rggrU73",
    "outputId": "2cea36f1-d84e-40fe-fa21-5211339f69d5"
   },
   "outputs": [
    {
     "name": "stdout",
     "output_type": "stream",
     "text": [
      "Overwriting musica.txt\n"
     ]
    }
   ],
   "source": [
    "%%writefile musica.txt\n",
    "Roda Viva\n",
    "Chico Buarque\n",
    "\n",
    "Tem dias que a gente se sente\n",
    "Como quem partiu ou morreu\n",
    "A gente estancou de repente\n",
    "Ou foi o mundo então que cresceu\n",
    "A gente quer ter voz ativa\n",
    "No nosso destino mandar\n",
    "Mas eis que chega a roda viva\n",
    "E carrega o destino pra lá\n",
    "\n",
    "Roda mundo, roda-gigante\n",
    "Roda moinho, roda pião\n",
    "\n",
    "O tempo rodou num instante\n",
    "Nas voltas do meu coração\n",
    "A gente vai contra a corrente\n",
    "Até não poder resistir\n",
    "Na volta do barco é que sente\n",
    "O quanto deixou de cumprir\n",
    "Faz tempo que a gente cultiva\n",
    "A mais linda roseira que há\n",
    "Mas eis que chega a roda viva\n",
    "E carrega a roseira pra lá\n",
    "\n",
    "Roda mundo, roda-gigante\n",
    "Roda moinho, roda pião"
   ]
  },
  {
   "attachments": {},
   "cell_type": "markdown",
   "metadata": {
    "id": "HV69LMAVGO3J"
   },
   "source": [
    "---"
   ]
  },
  {
   "attachments": {},
   "cell_type": "markdown",
   "metadata": {
    "id": "U4S19ZvHsPcE"
   },
   "source": [
    "## 1\\. Classe para ler arquivos de texto"
   ]
  },
  {
   "attachments": {},
   "cell_type": "markdown",
   "metadata": {
    "id": "HQrKGtoMGjf6"
   },
   "source": [
    "Crie a classe `ArquivoTexto`. Ela deve conter os seguintes atributos:\n",
    "\n",
    "*   `self.arquivo`: Atributo do tipo `str` com o nome do arquivo;\n",
    "*   `self.conteudo`: Atributo do tipo `list` onde cada elemento é uma linha do arquivo;\n",
    "\n",
    "A classe também deve conter o seguinte método:\n",
    "\n",
    "*   `self.extrair_conteudo`: Método que realiza a leitura do arquivo e retorna o conteúdo.\n",
    "\n",
    "*   `self.extrair_linha`: Método que recebe como parâmetro o número da linha e retorna a linha do conteúdo.\n"
   ]
  },
  {
   "cell_type": "code",
   "execution_count": 68,
   "metadata": {
    "id": "9QFsOQ9ZGXUC"
   },
   "outputs": [],
   "source": [
    "# Criamos a classe 'ArquivoTexto'\n",
    "# Verificamos o nome do arquivo fornecido como parâmetro e atribuímos à variável 'arquivo'\n",
    "# Inicializamos a variável 'conteudo' com None\n",
    "# Verificamos se o arquivo existe e lemos o seu conteúdo, atribuindo à variável 'conteudo'\n",
    "# Retornamos o conteúdo lido do arquivo\n",
    "# Verificamos se o número da linha está dentro dos limites do conteúdo\n",
    "# Retornamos a linha correspondente ao número da linha fornecido - 1 para trazer o retorno do gabarito\n",
    "# Caso o número da linha esteja fora dos limites, retornamos None\n",
    "\n",
    "\n",
    "\n",
    "class ArquivoTexto(object):\n",
    "\n",
    "  def __init__(self, arquivo: str):\n",
    "    self.arquivo = arquivo\n",
    "    self.conteudo = self.extrair_conteudo()\n",
    "\n",
    "  def extrair_conteudo(self):\n",
    "    conteudo = None\n",
    "    with open(file=self.arquivo, mode='r', encoding='utf8') as arquivo:\n",
    "        conteudo = arquivo.readlines()\n",
    "    return conteudo\n",
    "\n",
    "  def extrair_linha(self, numero_linha: int):\n",
    "          if 0 <= numero_linha < len(self.conteudo):\n",
    "              return self.conteudo[numero_linha - 1]\n",
    "          else:\n",
    "              return None\n"
   ]
  },
  {
   "attachments": {},
   "cell_type": "markdown",
   "metadata": {
    "id": "866OgsyHHw2M"
   },
   "source": [
    "Utilize o código abaixo para testar sua classe."
   ]
  },
  {
   "cell_type": "code",
   "execution_count": 69,
   "metadata": {
    "colab": {
     "base_uri": "https://localhost:8080/"
    },
    "id": "_HV_CE7CH8LO",
    "outputId": "88aafdcb-fa85-4ec9-bbfe-39961d5099e2"
   },
   "outputs": [
    {
     "name": "stdout",
     "output_type": "stream",
     "text": [
      "Roda Viva\n",
      "\n",
      "Mas eis que chega a roda viva\n",
      "\n"
     ]
    }
   ],
   "source": [
    "arquivo_texto = ArquivoTexto(arquivo='musica.txt')\n",
    "\n",
    "numero_linha = 1\n",
    "print(arquivo_texto.extrair_linha(numero_linha=numero_linha)) # Roda Viva\n",
    "\n",
    "numero_linha = 10\n",
    "print(arquivo_texto.extrair_linha(numero_linha=numero_linha)) # Mas eis que chega a roda viva"
   ]
  },
  {
   "attachments": {},
   "cell_type": "markdown",
   "metadata": {
    "id": "zMN1Q3jdwoJm"
   },
   "source": [
    "---"
   ]
  },
  {
   "attachments": {},
   "cell_type": "markdown",
   "metadata": {
    "id": "aQ8euzThIlLl"
   },
   "source": [
    "## 2\\. Classe para ler arquivos de csv"
   ]
  },
  {
   "attachments": {},
   "cell_type": "markdown",
   "metadata": {
    "id": "EMWhvKAWIlL0"
   },
   "source": [
    "Crie a classe `ArquivoCSV`. Ela deve extender (herdar) a classe `ArquivoTexto` para reaproveitar os seus atributos (`self.arquivo` e `self.conteudo`). Além disso, adicione o seguinte atributo:\n",
    "\n",
    "*   `self.colunas`: Atributo do tipo `list` onde os elementos são os nome das colunas;\n",
    "\n",
    "A classe também deve conter o seguinte método:\n",
    "\n",
    "*   `self.extrair_nome_colunas`: Método que retorna o nome das colunas do arquivo.\n",
    "\n",
    "\n",
    "*   `extrair_coluna`: Método que recebe como parâmetro o indice da coluna e retorna o valor em questão."
   ]
  },
  {
   "cell_type": "code",
   "execution_count": 70,
   "metadata": {
    "id": "2r3mfEyYIlL0"
   },
   "outputs": [],
   "source": [
    "# Verificamos o arquivos CSV, herdado da classe 'ArquivoTexto'\n",
    "# Chamamos o construtor da classe pai para verificar o arquivo e atribuir seu conteúdo\n",
    "# Verificamos e atribuímos os nomes das colunas à variável 'colunas'\n",
    "# Verificamos e retornamos uma lista com os nomes das colunas obtidos a partir da primeira linha do conteúdo\n",
    "# Verificamos se o índice da coluna está dentro dos limites das colunas\n",
    "# Retornamos uma lista com os valores da coluna correspondente ao índice fornecido, excluindo a primeira linha (cabeçalho)\n",
    "# Caso o índice da coluna esteja fora dos limites, retornamos None\n",
    "\n",
    "\n",
    "class ArquivoCSV(ArquivoTexto):\n",
    "\n",
    "  def __init__(self, arquivo: str):\n",
    "    super().__init__(arquivo=arquivo)\n",
    "    self.colunas = self.extrair_nome_colunas()\n",
    "\n",
    "  def extrair_nome_colunas(self):\n",
    "     return self.conteudo[0].strip().split(sep=',')\n",
    "   \n",
    "  def extrair_coluna(self, indice_coluna: int):\n",
    "      if indice_coluna < len(self.colunas):\n",
    "        return [linha.strip().split(sep=',')[indice_coluna] for linha in self.conteudo[1:]]\n",
    "      else:\n",
    "        return None"
   ]
  },
  {
   "attachments": {},
   "cell_type": "markdown",
   "metadata": {
    "id": "jQm_hBETIlL1"
   },
   "source": [
    "Utilize o código abaixo para testar sua classe."
   ]
  },
  {
   "cell_type": "code",
   "execution_count": 71,
   "metadata": {
    "colab": {
     "base_uri": "https://localhost:8080/"
    },
    "id": "GKSf1YbcIlL1",
    "outputId": "58fb43b4-a691-4bc4-e850-530795ecb01a"
   },
   "outputs": [
    {
     "name": "stdout",
     "output_type": "stream",
     "text": [
      "id,valor_venda,valor_manutencao,portas,pessoas,porta_malas\n",
      "\n",
      "['id', 'valor_venda', 'valor_manutencao', 'portas', 'pessoas', 'porta_malas']\n",
      "9,low,med,2,2,small\n",
      "\n",
      "['med', 'vhigh', 'vhigh', 'high', 'high', 'high', 'high', 'med', 'med', 'med', 'med', 'low', 'low', 'low']\n"
     ]
    }
   ],
   "source": [
    "arquivo_csv = ArquivoCSV(arquivo='carros.csv')\n",
    "\n",
    "numero_linha = 1\n",
    "print(arquivo_csv.extrair_linha(numero_linha=numero_linha)) # id,valor_venda,valor_manutencao,portas,pessoas,porta_malas\n",
    "\n",
    "print(arquivo_csv.colunas) # ['id', 'valor_venda', 'valor_manutencao', 'portas', 'pessoas', 'porta_malas']\n",
    "\n",
    "numero_linha = 10\n",
    "print(arquivo_csv.extrair_linha(numero_linha=numero_linha)) # 9,low,med,2,2,small\n",
    "\n",
    "\n",
    "indice_coluna = 2\n",
    "print(arquivo_csv.extrair_coluna(indice_coluna=indice_coluna)) # ['med', 'vhigh', 'vhigh', 'high', 'high', 'high', 'high', 'med', 'med', 'med', 'med', 'low', 'low', 'low']"
   ]
  },
  {
   "attachments": {},
   "cell_type": "markdown",
   "metadata": {
    "id": "78xH4bWUIlL2"
   },
   "source": [
    "---"
   ]
  },
  {
   "attachments": {},
   "cell_type": "markdown",
   "metadata": {
    "id": "NJbvryYdxEzP"
   },
   "source": [
    "# Exercício bônus"
   ]
  },
  {
   "attachments": {},
   "cell_type": "markdown",
   "metadata": {
    "id": "_V9ct8RDxH_Q"
   },
   "source": [
    "1. Classe para ler o arquivo csv\n",
    "\n",
    "Crie a classe `ArquivoCSV2`. Ela deve extender (herdar) a classe `ArquivoTexto` para reaproveitar o seu atributos `self.arquivo` e o método `self.extrair_linha`. \n",
    "\n",
    "\n",
    "A classe também deve conter o seguinte método:\n",
    "\n",
    "*   `self.extrair_coluna_da_linha`: Método que recebe como parâmetro o numero da linha e o indice da coluna e retorna o valor em questão."
   ]
  },
  {
   "cell_type": "code",
   "execution_count": 72,
   "metadata": {
    "id": "Z6I7Jix4xFq9"
   },
   "outputs": [],
   "source": [
    "# Verificamos o arquivo CSV2, herdado da classe ArquivoTexto\n",
    "# Chamamos o construtor da classe pai para verificar o arquivo e atribuir seu conteúdo\n",
    "# Utilizamos o método herdado 'extrair_linha' para obter a linha desejada\n",
    "# Verificamos se a linha existe\n",
    "# Dividimos a linha em valores, utilizando a vírgula como separador\n",
    "# Verificamos se o índice da coluna está dentro dos limites dos valores\n",
    "# Retornamos o valor da coluna correspondente ao índice fornecido\n",
    "# Caso a linha não exista ou o índice da coluna esteja fora dos limites, retornamos None\n",
    "\n",
    "\n",
    "class ArquivoCSV2(ArquivoTexto):\n",
    "\n",
    "  def __init__(self, arquivo: str):\n",
    "    super().__init__(arquivo=arquivo)\n",
    "\n",
    "  def extrair_coluna_da_linha(self, numero_linha: int, indice_coluna: int):\n",
    "    linha = self.extrair_linha(numero_linha)\n",
    "    if linha:\n",
    "      valores = linha.strip().split(sep=',')\n",
    "      if indice_coluna < len(valores):\n",
    "       return valores[indice_coluna]\n",
    "    return None"
   ]
  },
  {
   "cell_type": "code",
   "execution_count": 73,
   "metadata": {
    "colab": {
     "base_uri": "https://localhost:8080/"
    },
    "id": "g5qO9O2Xx62p",
    "outputId": "9224ead4-84d6-4aa7-efd0-c9b21fefedf4"
   },
   "outputs": [
    {
     "name": "stdout",
     "output_type": "stream",
     "text": [
      "low\n"
     ]
    }
   ],
   "source": [
    "arquivo_csv2 = ArquivoCSV2(arquivo='carros.csv')\n",
    "\n",
    "\n",
    "numero_linha = 10\n",
    "indice_coluna = 1\n",
    "print(arquivo_csv2.extrair_coluna_da_linha(numero_linha=numero_linha, indice_coluna=indice_coluna)) # low"
   ]
  }
 ],
 "metadata": {
  "colab": {
   "collapsed_sections": [],
   "name": "module_6_exercise-revisado.ipynb",
   "provenance": [],
   "toc_visible": true
  },
  "kernelspec": {
   "display_name": "Python 3 (ipykernel)",
   "language": "python",
   "name": "python3"
  },
  "language_info": {
   "codemirror_mode": {
    "name": "ipython",
    "version": 3
   },
   "file_extension": ".py",
   "mimetype": "text/x-python",
   "name": "python",
   "nbconvert_exporter": "python",
   "pygments_lexer": "ipython3",
   "version": "3.11.4"
  }
 },
 "nbformat": 4,
 "nbformat_minor": 1
}
