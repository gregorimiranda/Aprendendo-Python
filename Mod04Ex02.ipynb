{
  "cells": [
    {
      "cell_type": "markdown",
      "metadata": {
        "id": "ySOJ2zRJeCmv"
      },
      "source": [
        "## Exercício 1: Vestibular\n",
        "\n",
        "Considere que a os dados gerados na célula abaixo contêm o número de acertos de 100 alunos em um vestibular para um curso de exatas, divididas pelos respectivos assuntos. Considere que cada assunto possui um número de questões conforme a tabela abaixo:\n",
        "\n",
        "| assunto | número de questões |\n",
        "|:---:|:---:|\n",
        "| Matemática | 24 |\n",
        "| Português | 18 |\n",
        "| Geografia | 8 |\n",
        "| Inglês | 8 |\n",
        "| História | 8 |\n",
        "| Física | 12 |\n",
        "| Química | 12 |\n",
        "\n",
        "Usando os comandos de operações com DataFrames que você aprendeu na Aula 03, calcule:\n",
        "\n",
        "1. (operações com escalar) Calcule o percentual de acerto dos alunos por assunto.  \n",
        "2. (operações entre *DataFrames) Calcule o total de acertos de cada aluno.  \n",
        "3. Calcule o porcentual geral de cada aluno.  \n",
        "4. Suponha que a nota de corte para a segunda fase seja 45. Quantos alunos tiveram nota maior que 45?  "
      ]
    },
    {
      "cell_type": "code",
      "execution_count": 184,
      "metadata": {
        "id": "EHyeu2OieCoP"
      },
      "outputs": [],
      "source": [
        "#Importamos pandas e numpy e criamos os dataframes\n",
        "\n",
        "import pandas as pd\n",
        "import numpy as np\n",
        "\n",
        "np.random.seed(42)\n",
        "df_mat = pd.DataFrame(np.random.randint(24, size=(100, 1)), columns=['Qt_acertos'])\n",
        "\n",
        "df_por = pd.DataFrame(np.random.randint(18, size=(100, 1)), columns=['Qt_acertos'])\n",
        "\n",
        "df_geo = pd.DataFrame(np.random.randint(8, size=(100, 1)), columns=['Qt_acertos'])\n",
        "\n",
        "df_ing = pd.DataFrame(np.random.randint(8, size=(100, 1)), columns=['Qt_acertos'])\n",
        "\n",
        "df_his = pd.DataFrame(np.random.randint(8, size=(100, 1)), columns=['Qt_acertos'])\n",
        "\n",
        "df_fis = pd.DataFrame(np.random.randint(12, size=(100, 1)), columns=['Qt_acertos'])\n",
        "\n",
        "df_qui = pd.DataFrame(np.random.randint(12, size=(100, 1)), columns=['Qt_acertos'])"
      ]
    },
    {
      "cell_type": "code",
      "execution_count": 185,
      "metadata": {
        "colab": {
          "base_uri": "https://localhost:8080/"
        },
        "id": "UV2R4VxheCoj",
        "outputId": "69ef6ade-52c9-4e7c-a290-6e258535bb33"
      },
      "outputs": [
        {
          "output_type": "stream",
          "name": "stdout",
          "text": [
            "0     0.250000\n",
            "1     0.791667\n",
            "2     0.583333\n",
            "3     0.416667\n",
            "4     0.291667\n",
            "        ...   \n",
            "95    0.250000\n",
            "96    0.333333\n",
            "97    0.958333\n",
            "98    0.000000\n",
            "99    0.458333\n",
            "Name: Qt_acertos, Length: 100, dtype: float64\n",
            "0     0.388889\n",
            "1     0.555556\n",
            "2     0.888889\n",
            "3     0.388889\n",
            "4     0.111111\n",
            "        ...   \n",
            "95    0.222222\n",
            "96    0.055556\n",
            "97    0.277778\n",
            "98    0.555556\n",
            "99    0.833333\n",
            "Name: Qt_acertos, Length: 100, dtype: float64\n",
            "0     0.875\n",
            "1     0.000\n",
            "2     0.000\n",
            "3     0.375\n",
            "4     0.250\n",
            "      ...  \n",
            "95    0.875\n",
            "96    0.500\n",
            "97    0.000\n",
            "98    0.375\n",
            "99    0.000\n",
            "Name: Qt_acertos, Length: 100, dtype: float64\n",
            "0     0.375\n",
            "1     0.000\n",
            "2     0.625\n",
            "3     0.500\n",
            "4     0.875\n",
            "      ...  \n",
            "95    0.125\n",
            "96    0.750\n",
            "97    0.250\n",
            "98    0.125\n",
            "99    0.125\n",
            "Name: Qt_acertos, Length: 100, dtype: float64\n",
            "0     0.125\n",
            "1     0.000\n",
            "2     0.875\n",
            "3     0.000\n",
            "4     0.000\n",
            "      ...  \n",
            "95    0.500\n",
            "96    0.125\n",
            "97    0.500\n",
            "98    0.625\n",
            "99    0.750\n",
            "Name: Qt_acertos, Length: 100, dtype: float64\n",
            "0     1.000\n",
            "1     1.375\n",
            "2     0.500\n",
            "3     0.000\n",
            "4     1.125\n",
            "      ...  \n",
            "95    1.125\n",
            "96    0.500\n",
            "97    0.125\n",
            "98    1.250\n",
            "99    0.875\n",
            "Name: Qt_acertos, Length: 100, dtype: float64\n",
            "0     0.375\n",
            "1     1.000\n",
            "2     0.500\n",
            "3     1.000\n",
            "4     0.375\n",
            "      ...  \n",
            "95    0.375\n",
            "96    0.375\n",
            "97    0.625\n",
            "98    1.375\n",
            "99    0.250\n",
            "Name: Qt_acertos, Length: 100, dtype: float64\n"
          ]
        }
      ],
      "source": [
        "# Usamos o slicing para calcular todos acertos dos alunos pelo número de questões\n",
        "# Imprimimos o resultado \n",
        "pc_mat = df_mat['Qt_acertos'] / 24 \n",
        "print(pc_mat)\n",
        "\n",
        "pc_por = df_por['Qt_acertos'] / 18\n",
        "print(pc_por)\n",
        "\n",
        "pc_geo = df_geo['Qt_acertos']  /  8\n",
        "print(pc_geo)\n",
        "\n",
        "pc_ing = df_ing['Qt_acertos']  /  8\n",
        "print(pc_ing)\n",
        "\n",
        "pc_his = df_his['Qt_acertos']  /  8\n",
        "print(pc_his)\n",
        "\n",
        "pc_fis = df_fis['Qt_acertos']  /  8\n",
        "print(pc_fis)\n",
        "\n",
        "pc_qui = df_qui['Qt_acertos']  /  8\n",
        "print(pc_qui)"
      ]
    },
    {
      "cell_type": "code",
      "execution_count": 186,
      "metadata": {
        "colab": {
          "base_uri": "https://localhost:8080/"
        },
        "id": "ZRUcQzNdeCov",
        "outputId": "9380db1a-7d2c-4784-e511-8d8c0bbf2b96"
      },
      "outputs": [
        {
          "output_type": "execute_result",
          "data": {
            "text/plain": [
              "0     35\n",
              "1     48\n",
              "2     50\n",
              "3     32\n",
              "4     30\n",
              "      ..\n",
              "95    34\n",
              "96    27\n",
              "97    40\n",
              "98    40\n",
              "99    42\n",
              "Name: Qt_acertos, Length: 100, dtype: int64"
            ]
          },
          "metadata": {},
          "execution_count": 186
        }
      ],
      "source": [
        "# Somando a quantidade de acertos em cada disciplina para obter o total de acertos\n",
        "total = df_mat['Qt_acertos'] + df_por['Qt_acertos'] + df_geo['Qt_acertos'] + df_ing['Qt_acertos'] + df_his['Qt_acertos'] + df_fis['Qt_acertos'] + df_qui['Qt_acertos']\n",
        "total"
      ]
    },
    {
      "cell_type": "code",
      "execution_count": 187,
      "metadata": {
        "colab": {
          "base_uri": "https://localhost:8080/"
        },
        "id": "eKGrRe96eCpE",
        "outputId": "be8b2a4d-098a-4108-d3bc-7a3190130697"
      },
      "outputs": [
        {
          "output_type": "stream",
          "name": "stdout",
          "text": [
            "0     0.388889\n",
            "1     0.533333\n",
            "2     0.555556\n",
            "3     0.355556\n",
            "4     0.333333\n",
            "        ...   \n",
            "95    0.377778\n",
            "96    0.300000\n",
            "97    0.444444\n",
            "98    0.444444\n",
            "99    0.466667\n",
            "Name: Qt_acertos, Length: 100, dtype: float64\n"
          ]
        }
      ],
      "source": [
        "# Calculando o percentual geral de acertos de cada aluno em relação ao total de questões\n",
        "percentual = total/90\n",
        "print(percentual)\n"
      ]
    },
    {
      "cell_type": "code",
      "execution_count": 188,
      "metadata": {
        "colab": {
          "base_uri": "https://localhost:8080/"
        },
        "id": "cZ87pEoPeCpM",
        "outputId": "25426aa4-5b3e-4ea5-935e-b8555f1b32b7"
      },
      "outputs": [
        {
          "output_type": "execute_result",
          "data": {
            "text/plain": [
              "31"
            ]
          },
          "metadata": {},
          "execution_count": 188
        }
      ],
      "source": [
        "# Calculando os alunos que tiveram nota maior que 45\n",
        "total_gt_45 = total[total > 45]\n",
        "total_gt_45.count()"
      ]
    },
    {
      "cell_type": "markdown",
      "metadata": {
        "id": "wlcy539jeCpP"
      },
      "source": [
        "## 2) Vestibular II\n",
        "\n",
        "Ainda sobre o mesmo banco de dados:\n",
        "\n",
        "1. Neste vestibular, quem 'zera' em matemática, física ou química está desqualificado. Monte um novo *DataFrame* com os alunos desqualificados por este critério.\n",
        "2. Quantos são esses alunos?\n",
        "3. Qual a média desses alunos em história e geografia?\n",
        "4. Monte um *DataFrame* com os alunos que passaram para a segunda fase. Repare que estes alunos não podem ter sido desqualificados."
      ]
    },
    {
      "cell_type": "code",
      "execution_count": 189,
      "metadata": {
        "colab": {
          "base_uri": "https://localhost:8080/"
        },
        "id": "LgyLw-fieCpS",
        "outputId": "3ea9fe3c-87b3-4605-a485-8539804a3838"
      },
      "outputs": [
        {
          "output_type": "execute_result",
          "data": {
            "text/plain": [
              "3     32\n",
              "6     29\n",
              "10    31\n",
              "12    42\n",
              "14    31\n",
              "20    53\n",
              "25    27\n",
              "26    40\n",
              "27    50\n",
              "33    39\n",
              "35    48\n",
              "49    19\n",
              "56    39\n",
              "65    24\n",
              "66    31\n",
              "72    50\n",
              "73    37\n",
              "74    39\n",
              "84    26\n",
              "89    63\n",
              "92    40\n",
              "94    25\n",
              "98    40\n",
              "Name: Qt_acertos, dtype: int64"
            ]
          },
          "metadata": {},
          "execution_count": 189
        }
      ],
      "source": [
        "df_eliminados = total[(df_mat['Qt_acertos'] == 0) | \n",
        "                      (df_fis['Qt_acertos'] == 0) | \n",
        "                      (df_qui['Qt_acertos'] == 0)]\n",
        "\n",
        "df_eliminados"
      ]
    },
    {
      "cell_type": "code",
      "source": [
        "# Calculamos o número de alunos desqualificados \n",
        "# Criamos uma nova variável 'qt_eliminados' utilizando no DataFrame 'df_eliminados' a função 'count'\n",
        "qt_eliminados = df_eliminados.count()\n",
        "qt_eliminados"
      ],
      "metadata": {
        "colab": {
          "base_uri": "https://localhost:8080/"
        },
        "id": "0Py-2L19w9W6",
        "outputId": "481220bd-d444-47a9-b7db-0809d42e94cf"
      },
      "execution_count": 190,
      "outputs": [
        {
          "output_type": "execute_result",
          "data": {
            "text/plain": [
              "23"
            ]
          },
          "metadata": {},
          "execution_count": 190
        }
      ]
    },
    {
      "cell_type": "code",
      "source": [
        "# Calculamos a média dos alunos desqualificados em história e geografia\n",
        "# Utilizamos o método 'loc' para selecionar os dados dos alunos desqualificados nos DataFrames 'df_his' e 'df_geo' com base no índice do DataFrame 'df_eliminados'\n",
        "df.media_his_eliminados = df_his.loc[df_eliminados.index,'Qt_acertos'].mean()\n",
        "df.media_geo_eliminados = df_geo.loc[df_eliminados.index,'Qt_acertos'].mean()\n",
        "print(df.media_his_eliminados)\n",
        "print(df.media_geo_eliminados)"
      ],
      "metadata": {
        "colab": {
          "base_uri": "https://localhost:8080/"
        },
        "id": "fu96wxWTxSkk",
        "outputId": "02561af2-4fc0-4982-e862-11d75926e667"
      },
      "execution_count": 191,
      "outputs": [
        {
          "output_type": "stream",
          "name": "stdout",
          "text": [
            "3.4347826086956523\n",
            "3.217391304347826\n"
          ]
        }
      ]
    },
    {
      "cell_type": "code",
      "source": [
        "# Calculamos a quantidade de alunos que passaram para próxima fase\n",
        "# Usamos a condicional 'AND' e o operador '>'para descobrir quais alunos haviam acertado mais do que zero questões \n",
        "df_segunda_fase = total[(df_mat['Qt_acertos'] > 0) &\n",
        "                      (df_fis['Qt_acertos'] > 0) &\n",
        "                      (df_qui['Qt_acertos'] > 0)]\n",
        "\n",
        "df_segunda_fase.count()"
      ],
      "metadata": {
        "colab": {
          "base_uri": "https://localhost:8080/"
        },
        "id": "D6X4voXjy7wA",
        "outputId": "6b99095b-94ac-4381-8b2f-807d5467e552"
      },
      "execution_count": 192,
      "outputs": [
        {
          "output_type": "execute_result",
          "data": {
            "text/plain": [
              "77"
            ]
          },
          "metadata": {},
          "execution_count": 192
        }
      ]
    },
    {
      "cell_type": "markdown",
      "metadata": {
        "id": "DYqnaTigeCpV"
      },
      "source": [
        "## 3) Vacinações no Acre\n",
        "Vamos trabalhar agora com a base de vacinações no Acre. Para facilitar a sua vida, copiamos o link do arquivo na célula abaixo.\n",
        "\n",
        "1. Quantas vacinas estão registradas nessa base?  \n",
        "2. Quantos pacientes foram vacinados? (considere um paciente para cada valor único de ```paciente_id```)  \n",
        "3. Quantos pacientes únicos tomaram a primeira dose? OBS: Há um caractere especial neste campo. Receba os valores do campo com o método ```.unique()```.   \n",
        "4. Quantos pacientes com menos de 18 anos foram vacinados?  \n",
        "5. Quantos estabelecimentos aplicaram vacina no Acre?\n",
        "\n",
        "\n",
        "**OBS:** O portal do DATASUS pode apresentar instabilidades, retornando um erro na segunda célula abaixo. Por este motivo está disponível uma base estática, que se for baixada para o seu *working directory* pode ser lida com este comando: ```df = pd.read_csv('registros de vacinacao covid ACRE.csv', sep=';')```.\n",
        "\n",
        "**OBS2:** Para saber qual é o seu working directory, rode no jupyter: ```!pwd```."
      ]
    },
    {
      "cell_type": "code",
      "source": [
        "import os \n",
        "\n",
        "# Obtenha o diretório atual\n",
        "diretorio_atual = os.getcwd()"
      ],
      "metadata": {
        "id": "VXAmUBfZKyoZ"
      },
      "execution_count": 193,
      "outputs": []
    },
    {
      "cell_type": "code",
      "execution_count": 194,
      "metadata": {
        "colab": {
          "base_uri": "https://localhost:8080/"
        },
        "id": "hmt7OQejeCpa",
        "outputId": "82afbdeb-5fcc-4615-ea00-706341cbb6c7"
      },
      "outputs": [
        {
          "output_type": "stream",
          "name": "stdout",
          "text": [
            "/content/sample_data/registros de vacinacao covid ACRE.csv\n",
            "<class 'pandas.core.frame.DataFrame'>\n",
            "RangeIndex: 169071 entries, 0 to 169070\n",
            "Data columns (total 34 columns):\n",
            " #   Column                                    Non-Null Count   Dtype  \n",
            "---  ------                                    --------------   -----  \n",
            " 0   document_id                               169071 non-null  object \n",
            " 1   paciente_id                               169071 non-null  object \n",
            " 2   paciente_idade                            169071 non-null  int64  \n",
            " 3   paciente_datanascimento                   169071 non-null  object \n",
            " 4   paciente_enumsexobiologico                169071 non-null  object \n",
            " 5   paciente_racacor_codigo                   169071 non-null  int64  \n",
            " 6   paciente_racacor_valor                    169071 non-null  object \n",
            " 7   paciente_endereco_coibgemunicipio         167802 non-null  float64\n",
            " 8   paciente_endereco_copais                  167804 non-null  float64\n",
            " 9   paciente_endereco_nmmunicipio             167804 non-null  object \n",
            " 10  paciente_endereco_nmpais                  167804 non-null  object \n",
            " 11  paciente_endereco_uf                      167802 non-null  object \n",
            " 12  paciente_endereco_cep                     140711 non-null  float64\n",
            " 13  paciente_nacionalidade_enumnacionalidade  168904 non-null  object \n",
            " 14  estabelecimento_valor                     169071 non-null  int64  \n",
            " 15  estabelecimento_razaosocial               169071 non-null  object \n",
            " 16  estalecimento_nofantasia                  169071 non-null  object \n",
            " 17  estabelecimento_municipio_codigo          169071 non-null  int64  \n",
            " 18  estabelecimento_municipio_nome            169071 non-null  object \n",
            " 19  estabelecimento_uf                        169071 non-null  object \n",
            " 20  vacina_grupoatendimento_codigo            169071 non-null  int64  \n",
            " 21  vacina_grupoatendimento_nome              167965 non-null  object \n",
            " 22  vacina_categoria_codigo                   167965 non-null  float64\n",
            " 23  vacina_categoria_nome                     167467 non-null  object \n",
            " 24  vacina_lote                               169071 non-null  object \n",
            " 25  vacina_fabricante_nome                    169071 non-null  object \n",
            " 26  vacina_fabricante_referencia              167680 non-null  object \n",
            " 27  vacina_dataaplicacao                      169071 non-null  object \n",
            " 28  vacina_descricao_dose                     169071 non-null  object \n",
            " 29  vacina_codigo                             169071 non-null  int64  \n",
            " 30  vacina_nome                               169071 non-null  object \n",
            " 31  sistema_origem                            169071 non-null  object \n",
            " 32  data_importacao_rnds                      169071 non-null  object \n",
            " 33  id_sistema_origem                         0 non-null       float64\n",
            "dtypes: float64(5), int64(6), object(23)\n",
            "memory usage: 43.9+ MB\n"
          ]
        }
      ],
      "source": [
        "# Defina o caminho para o arquivo\n",
        "arquivo = os.path.join(diretorio_atual, 'sample_data', 'registros de vacinacao covid ACRE.csv')\n",
        "print(arquivo)\n",
        "df = pd.read_csv(arquivo, sep=';')\n",
        "df.info()"
      ]
    },
    {
      "cell_type": "code",
      "execution_count": 195,
      "metadata": {
        "colab": {
          "base_uri": "https://localhost:8080/"
        },
        "id": "iBz9eWQMeCpe",
        "outputId": "f29f242a-8cf8-4943-d9b1-b714aac7dbc3"
      },
      "outputs": [
        {
          "output_type": "execute_result",
          "data": {
            "text/plain": [
              "5"
            ]
          },
          "metadata": {},
          "execution_count": 195
        }
      ],
      "source": [
        "# Utilizando a função 'nunique' e coluna 'vacina_codigo' para descobrir a quantidade de vacinas registradas\n",
        "df['vacina_codigo'].nunique()\n"
      ]
    },
    {
      "cell_type": "code",
      "execution_count": 196,
      "metadata": {
        "colab": {
          "base_uri": "https://localhost:8080/",
          "height": 612
        },
        "id": "ucJoAxz5eCpf",
        "outputId": "1cc8b914-3e82-4577-d5cc-828af7f5c182"
      },
      "outputs": [
        {
          "output_type": "execute_result",
          "data": {
            "text/plain": [
              "                                 document_id  \\\n",
              "0  b19cd280-474c-4c22-a35d-8c06bc04a4e0-i0b0   \n",
              "1  a1acc0b6-1cf6-4c4b-adcb-06b473a0faaf-i0b0   \n",
              "2  af279a98-ba1f-47ea-8214-314a98040b0d-i0b0   \n",
              "3  4879308e-5050-46bb-b8e2-11fa5646a05c-i0b0   \n",
              "4  000e911b-e3a4-4114-a735-d1f2e6e3797f-i0b0   \n",
              "\n",
              "                                         paciente_id  paciente_idade  \\\n",
              "0  2e091c9a37d3f50d1d705fc80c6448c6fc69b44da9e936...              69   \n",
              "1  f4e17a9e5354cb45e223d85eda02fb2f76048c801675f5...              81   \n",
              "2  6734b26bccf826130ebffa66575977bbe71477b12bcf42...              69   \n",
              "3  84a341fd350c1ba7117fccbb4d2df417bc0fac0fffac37...              51   \n",
              "4  c59571e19f368d4b0cf08cd3bcabb32e5cd8baad5340f6...              65   \n",
              "\n",
              "  paciente_datanascimento paciente_enumsexobiologico  paciente_racacor_codigo  \\\n",
              "0              1951-12-28                          F                        3   \n",
              "1              1939-11-22                          M                        3   \n",
              "2              1951-08-14                          M                        4   \n",
              "3              1969-12-15                          F                        3   \n",
              "4              1955-11-21                          M                        3   \n",
              "\n",
              "  paciente_racacor_valor  paciente_endereco_coibgemunicipio  \\\n",
              "0                  PARDA                           120050.0   \n",
              "1                  PARDA                           120040.0   \n",
              "2                AMARELA                           120020.0   \n",
              "3                  PARDA                           120040.0   \n",
              "4                  PARDA                           120040.0   \n",
              "\n",
              "   paciente_endereco_copais paciente_endereco_nmmunicipio  ...   vacina_lote  \\\n",
              "0                      10.0                SENA MADUREIRA  ...       210052A   \n",
              "1                      10.0                    RIO BRANCO  ...        210110   \n",
              "2                      10.0               CRUZEIRO DO SUL  ...        210135   \n",
              "3                      10.0                    RIO BRANCO  ...     202010040   \n",
              "4                      10.0                    RIO BRANCO  ...  212VCD001ZVB   \n",
              "\n",
              "  vacina_fabricante_nome  vacina_fabricante_referencia vacina_dataaplicacao  \\\n",
              "0      FUNDACAO BUTANTAN   Organization/61189445000156           2021-03-23   \n",
              "1      FUNDACAO BUTANTAN   Organization/61189445000156           2021-04-29   \n",
              "2      FUNDACAO BUTANTAN   Organization/61189445000156           2021-04-16   \n",
              "3      FUNDACAO BUTANTAN   Organization/61189445000156           2021-02-19   \n",
              "4  FUNDACAO OSWALDO CRUZ   Organization/33781055000135           2021-03-29   \n",
              "\n",
              "   vacina_descricao_dose vacina_codigo                          vacina_nome  \\\n",
              "0                1ª Dose            86  Covid-19-Coronavac-Sinovac/Butantan   \n",
              "1                2ª Dose            86  Covid-19-Coronavac-Sinovac/Butantan   \n",
              "2                1ª Dose            86  Covid-19-Coronavac-Sinovac/Butantan   \n",
              "3                2ª Dose            86  Covid-19-Coronavac-Sinovac/Butantan   \n",
              "4                1ª Dose            85         Vacina Covid-19 - Covishield   \n",
              "\n",
              "   sistema_origem      data_importacao_rnds id_sistema_origem  \n",
              "0        Novo PNI  2021-03-25T03:27:19.000Z               NaN  \n",
              "1        Novo PNI  2021-04-30T16:03:14.000Z               NaN  \n",
              "2        Novo PNI  2021-04-16T15:54:39.000Z               NaN  \n",
              "3        Novo PNI  2021-03-10T14:40:54.000Z               NaN  \n",
              "4        Novo PNI  2021-04-03T19:44:28.000Z               NaN  \n",
              "\n",
              "[5 rows x 34 columns]"
            ],
            "text/html": [
              "\n",
              "  <div id=\"df-d018dc51-84ac-4941-94f3-c1ced9f0ac0e\">\n",
              "    <div class=\"colab-df-container\">\n",
              "      <div>\n",
              "<style scoped>\n",
              "    .dataframe tbody tr th:only-of-type {\n",
              "        vertical-align: middle;\n",
              "    }\n",
              "\n",
              "    .dataframe tbody tr th {\n",
              "        vertical-align: top;\n",
              "    }\n",
              "\n",
              "    .dataframe thead th {\n",
              "        text-align: right;\n",
              "    }\n",
              "</style>\n",
              "<table border=\"1\" class=\"dataframe\">\n",
              "  <thead>\n",
              "    <tr style=\"text-align: right;\">\n",
              "      <th></th>\n",
              "      <th>document_id</th>\n",
              "      <th>paciente_id</th>\n",
              "      <th>paciente_idade</th>\n",
              "      <th>paciente_datanascimento</th>\n",
              "      <th>paciente_enumsexobiologico</th>\n",
              "      <th>paciente_racacor_codigo</th>\n",
              "      <th>paciente_racacor_valor</th>\n",
              "      <th>paciente_endereco_coibgemunicipio</th>\n",
              "      <th>paciente_endereco_copais</th>\n",
              "      <th>paciente_endereco_nmmunicipio</th>\n",
              "      <th>...</th>\n",
              "      <th>vacina_lote</th>\n",
              "      <th>vacina_fabricante_nome</th>\n",
              "      <th>vacina_fabricante_referencia</th>\n",
              "      <th>vacina_dataaplicacao</th>\n",
              "      <th>vacina_descricao_dose</th>\n",
              "      <th>vacina_codigo</th>\n",
              "      <th>vacina_nome</th>\n",
              "      <th>sistema_origem</th>\n",
              "      <th>data_importacao_rnds</th>\n",
              "      <th>id_sistema_origem</th>\n",
              "    </tr>\n",
              "  </thead>\n",
              "  <tbody>\n",
              "    <tr>\n",
              "      <th>0</th>\n",
              "      <td>b19cd280-474c-4c22-a35d-8c06bc04a4e0-i0b0</td>\n",
              "      <td>2e091c9a37d3f50d1d705fc80c6448c6fc69b44da9e936...</td>\n",
              "      <td>69</td>\n",
              "      <td>1951-12-28</td>\n",
              "      <td>F</td>\n",
              "      <td>3</td>\n",
              "      <td>PARDA</td>\n",
              "      <td>120050.0</td>\n",
              "      <td>10.0</td>\n",
              "      <td>SENA MADUREIRA</td>\n",
              "      <td>...</td>\n",
              "      <td>210052A</td>\n",
              "      <td>FUNDACAO BUTANTAN</td>\n",
              "      <td>Organization/61189445000156</td>\n",
              "      <td>2021-03-23</td>\n",
              "      <td>1ª Dose</td>\n",
              "      <td>86</td>\n",
              "      <td>Covid-19-Coronavac-Sinovac/Butantan</td>\n",
              "      <td>Novo PNI</td>\n",
              "      <td>2021-03-25T03:27:19.000Z</td>\n",
              "      <td>NaN</td>\n",
              "    </tr>\n",
              "    <tr>\n",
              "      <th>1</th>\n",
              "      <td>a1acc0b6-1cf6-4c4b-adcb-06b473a0faaf-i0b0</td>\n",
              "      <td>f4e17a9e5354cb45e223d85eda02fb2f76048c801675f5...</td>\n",
              "      <td>81</td>\n",
              "      <td>1939-11-22</td>\n",
              "      <td>M</td>\n",
              "      <td>3</td>\n",
              "      <td>PARDA</td>\n",
              "      <td>120040.0</td>\n",
              "      <td>10.0</td>\n",
              "      <td>RIO BRANCO</td>\n",
              "      <td>...</td>\n",
              "      <td>210110</td>\n",
              "      <td>FUNDACAO BUTANTAN</td>\n",
              "      <td>Organization/61189445000156</td>\n",
              "      <td>2021-04-29</td>\n",
              "      <td>2ª Dose</td>\n",
              "      <td>86</td>\n",
              "      <td>Covid-19-Coronavac-Sinovac/Butantan</td>\n",
              "      <td>Novo PNI</td>\n",
              "      <td>2021-04-30T16:03:14.000Z</td>\n",
              "      <td>NaN</td>\n",
              "    </tr>\n",
              "    <tr>\n",
              "      <th>2</th>\n",
              "      <td>af279a98-ba1f-47ea-8214-314a98040b0d-i0b0</td>\n",
              "      <td>6734b26bccf826130ebffa66575977bbe71477b12bcf42...</td>\n",
              "      <td>69</td>\n",
              "      <td>1951-08-14</td>\n",
              "      <td>M</td>\n",
              "      <td>4</td>\n",
              "      <td>AMARELA</td>\n",
              "      <td>120020.0</td>\n",
              "      <td>10.0</td>\n",
              "      <td>CRUZEIRO DO SUL</td>\n",
              "      <td>...</td>\n",
              "      <td>210135</td>\n",
              "      <td>FUNDACAO BUTANTAN</td>\n",
              "      <td>Organization/61189445000156</td>\n",
              "      <td>2021-04-16</td>\n",
              "      <td>1ª Dose</td>\n",
              "      <td>86</td>\n",
              "      <td>Covid-19-Coronavac-Sinovac/Butantan</td>\n",
              "      <td>Novo PNI</td>\n",
              "      <td>2021-04-16T15:54:39.000Z</td>\n",
              "      <td>NaN</td>\n",
              "    </tr>\n",
              "    <tr>\n",
              "      <th>3</th>\n",
              "      <td>4879308e-5050-46bb-b8e2-11fa5646a05c-i0b0</td>\n",
              "      <td>84a341fd350c1ba7117fccbb4d2df417bc0fac0fffac37...</td>\n",
              "      <td>51</td>\n",
              "      <td>1969-12-15</td>\n",
              "      <td>F</td>\n",
              "      <td>3</td>\n",
              "      <td>PARDA</td>\n",
              "      <td>120040.0</td>\n",
              "      <td>10.0</td>\n",
              "      <td>RIO BRANCO</td>\n",
              "      <td>...</td>\n",
              "      <td>202010040</td>\n",
              "      <td>FUNDACAO BUTANTAN</td>\n",
              "      <td>Organization/61189445000156</td>\n",
              "      <td>2021-02-19</td>\n",
              "      <td>2ª Dose</td>\n",
              "      <td>86</td>\n",
              "      <td>Covid-19-Coronavac-Sinovac/Butantan</td>\n",
              "      <td>Novo PNI</td>\n",
              "      <td>2021-03-10T14:40:54.000Z</td>\n",
              "      <td>NaN</td>\n",
              "    </tr>\n",
              "    <tr>\n",
              "      <th>4</th>\n",
              "      <td>000e911b-e3a4-4114-a735-d1f2e6e3797f-i0b0</td>\n",
              "      <td>c59571e19f368d4b0cf08cd3bcabb32e5cd8baad5340f6...</td>\n",
              "      <td>65</td>\n",
              "      <td>1955-11-21</td>\n",
              "      <td>M</td>\n",
              "      <td>3</td>\n",
              "      <td>PARDA</td>\n",
              "      <td>120040.0</td>\n",
              "      <td>10.0</td>\n",
              "      <td>RIO BRANCO</td>\n",
              "      <td>...</td>\n",
              "      <td>212VCD001ZVB</td>\n",
              "      <td>FUNDACAO OSWALDO CRUZ</td>\n",
              "      <td>Organization/33781055000135</td>\n",
              "      <td>2021-03-29</td>\n",
              "      <td>1ª Dose</td>\n",
              "      <td>85</td>\n",
              "      <td>Vacina Covid-19 - Covishield</td>\n",
              "      <td>Novo PNI</td>\n",
              "      <td>2021-04-03T19:44:28.000Z</td>\n",
              "      <td>NaN</td>\n",
              "    </tr>\n",
              "  </tbody>\n",
              "</table>\n",
              "<p>5 rows × 34 columns</p>\n",
              "</div>\n",
              "      <button class=\"colab-df-convert\" onclick=\"convertToInteractive('df-d018dc51-84ac-4941-94f3-c1ced9f0ac0e')\"\n",
              "              title=\"Convert this dataframe to an interactive table.\"\n",
              "              style=\"display:none;\">\n",
              "        \n",
              "  <svg xmlns=\"http://www.w3.org/2000/svg\" height=\"24px\"viewBox=\"0 0 24 24\"\n",
              "       width=\"24px\">\n",
              "    <path d=\"M0 0h24v24H0V0z\" fill=\"none\"/>\n",
              "    <path d=\"M18.56 5.44l.94 2.06.94-2.06 2.06-.94-2.06-.94-.94-2.06-.94 2.06-2.06.94zm-11 1L8.5 8.5l.94-2.06 2.06-.94-2.06-.94L8.5 2.5l-.94 2.06-2.06.94zm10 10l.94 2.06.94-2.06 2.06-.94-2.06-.94-.94-2.06-.94 2.06-2.06.94z\"/><path d=\"M17.41 7.96l-1.37-1.37c-.4-.4-.92-.59-1.43-.59-.52 0-1.04.2-1.43.59L10.3 9.45l-7.72 7.72c-.78.78-.78 2.05 0 2.83L4 21.41c.39.39.9.59 1.41.59.51 0 1.02-.2 1.41-.59l7.78-7.78 2.81-2.81c.8-.78.8-2.07 0-2.86zM5.41 20L4 18.59l7.72-7.72 1.47 1.35L5.41 20z\"/>\n",
              "  </svg>\n",
              "      </button>\n",
              "      \n",
              "  <style>\n",
              "    .colab-df-container {\n",
              "      display:flex;\n",
              "      flex-wrap:wrap;\n",
              "      gap: 12px;\n",
              "    }\n",
              "\n",
              "    .colab-df-convert {\n",
              "      background-color: #E8F0FE;\n",
              "      border: none;\n",
              "      border-radius: 50%;\n",
              "      cursor: pointer;\n",
              "      display: none;\n",
              "      fill: #1967D2;\n",
              "      height: 32px;\n",
              "      padding: 0 0 0 0;\n",
              "      width: 32px;\n",
              "    }\n",
              "\n",
              "    .colab-df-convert:hover {\n",
              "      background-color: #E2EBFA;\n",
              "      box-shadow: 0px 1px 2px rgba(60, 64, 67, 0.3), 0px 1px 3px 1px rgba(60, 64, 67, 0.15);\n",
              "      fill: #174EA6;\n",
              "    }\n",
              "\n",
              "    [theme=dark] .colab-df-convert {\n",
              "      background-color: #3B4455;\n",
              "      fill: #D2E3FC;\n",
              "    }\n",
              "\n",
              "    [theme=dark] .colab-df-convert:hover {\n",
              "      background-color: #434B5C;\n",
              "      box-shadow: 0px 1px 3px 1px rgba(0, 0, 0, 0.15);\n",
              "      filter: drop-shadow(0px 1px 2px rgba(0, 0, 0, 0.3));\n",
              "      fill: #FFFFFF;\n",
              "    }\n",
              "  </style>\n",
              "\n",
              "      <script>\n",
              "        const buttonEl =\n",
              "          document.querySelector('#df-d018dc51-84ac-4941-94f3-c1ced9f0ac0e button.colab-df-convert');\n",
              "        buttonEl.style.display =\n",
              "          google.colab.kernel.accessAllowed ? 'block' : 'none';\n",
              "\n",
              "        async function convertToInteractive(key) {\n",
              "          const element = document.querySelector('#df-d018dc51-84ac-4941-94f3-c1ced9f0ac0e');\n",
              "          const dataTable =\n",
              "            await google.colab.kernel.invokeFunction('convertToInteractive',\n",
              "                                                     [key], {});\n",
              "          if (!dataTable) return;\n",
              "\n",
              "          const docLinkHtml = 'Like what you see? Visit the ' +\n",
              "            '<a target=\"_blank\" href=https://colab.research.google.com/notebooks/data_table.ipynb>data table notebook</a>'\n",
              "            + ' to learn more about interactive tables.';\n",
              "          element.innerHTML = '';\n",
              "          dataTable['output_type'] = 'display_data';\n",
              "          await google.colab.output.renderOutput(dataTable, element);\n",
              "          const docLink = document.createElement('div');\n",
              "          docLink.innerHTML = docLinkHtml;\n",
              "          element.appendChild(docLink);\n",
              "        }\n",
              "      </script>\n",
              "    </div>\n",
              "  </div>\n",
              "  "
            ]
          },
          "metadata": {},
          "execution_count": 196
        }
      ],
      "source": [
        "# Mostramos as cinco primeiras linhas do dataframe\n",
        "df.head()"
      ]
    },
    {
      "cell_type": "code",
      "execution_count": 197,
      "metadata": {
        "colab": {
          "base_uri": "https://localhost:8080/"
        },
        "id": "rgZInkyFeCp2",
        "outputId": "a6bbd90b-d359-4f88-c950-bcc8ca614c57"
      },
      "outputs": [
        {
          "output_type": "execute_result",
          "data": {
            "text/plain": [
              "169071"
            ]
          },
          "metadata": {},
          "execution_count": 197
        }
      ],
      "source": [
        "df.shape[0]"
      ]
    },
    {
      "cell_type": "code",
      "execution_count": 198,
      "metadata": {
        "colab": {
          "base_uri": "https://localhost:8080/"
        },
        "id": "osBoU2LIeCqE",
        "outputId": "750a6408-ea38-4623-97f4-d4a2a542fc63"
      },
      "outputs": [
        {
          "output_type": "execute_result",
          "data": {
            "text/plain": [
              "120517"
            ]
          },
          "metadata": {},
          "execution_count": 198
        }
      ],
      "source": [
        "# Calcular o número de pacientes vacinados utilizando a coluna 'paciente_id' e a função 'nunique'\n",
        "df['paciente_id'].nunique()\n"
      ]
    },
    {
      "cell_type": "code",
      "execution_count": 199,
      "metadata": {
        "colab": {
          "base_uri": "https://localhost:8080/"
        },
        "id": "yW5VJSCkeCqG",
        "outputId": "652be99f-7549-4f76-c3be-06b835bf42a4"
      },
      "outputs": [
        {
          "output_type": "execute_result",
          "data": {
            "text/plain": [
              "119713"
            ]
          },
          "metadata": {},
          "execution_count": 199
        }
      ],
      "source": [
        "# Calculando a quantidade de pacientes que receberam a primeira dose\n",
        "primeira_dose = df['vacina_descricao_dose'].unique()[0]\n",
        "df['paciente_id'].loc[df['vacina_descricao_dose'] == primeira_dose].nunique()"
      ]
    },
    {
      "cell_type": "code",
      "execution_count": 200,
      "metadata": {
        "colab": {
          "base_uri": "https://localhost:8080/"
        },
        "id": "tSroQkgneCqI",
        "outputId": "b51c559b-f360-4e92-b3a8-4d3363363a4c"
      },
      "outputs": [
        {
          "output_type": "execute_result",
          "data": {
            "text/plain": [
              "119713"
            ]
          },
          "metadata": {},
          "execution_count": 200
        }
      ],
      "source": [
        "# 3) solução alternativa\n",
        "primeira_dose = df['vacina_descricao_dose'].unique()[0]\n",
        "df_primeira_dose = df[df['vacina_descricao_dose'] == primeira_dose]\n",
        "df_primeira_dose['paciente_id'].nunique()"
      ]
    },
    {
      "cell_type": "code",
      "execution_count": 201,
      "metadata": {
        "colab": {
          "base_uri": "https://localhost:8080/"
        },
        "id": "LKTGh8mReCqV",
        "outputId": "670f9a06-bafb-472a-acbb-ad6251577d0a"
      },
      "outputs": [
        {
          "output_type": "execute_result",
          "data": {
            "text/plain": [
              "47"
            ]
          },
          "metadata": {},
          "execution_count": 201
        }
      ],
      "source": [
        "# 4) \n",
        "df_menor = df[df[\"paciente_idade\"]<18]\n",
        "df_menor['paciente_id'].nunique()"
      ]
    },
    {
      "cell_type": "code",
      "execution_count": 202,
      "metadata": {
        "colab": {
          "base_uri": "https://localhost:8080/"
        },
        "id": "2yn4aYeFeCqW",
        "outputId": "40c9fdfc-2b19-45ba-ace2-ee93e59a0b4d"
      },
      "outputs": [
        {
          "output_type": "execute_result",
          "data": {
            "text/plain": [
              "42"
            ]
          },
          "metadata": {},
          "execution_count": 202
        }
      ],
      "source": [
        "# 5)\n",
        "df['estabelecimento_razaosocial'].nunique()"
      ]
    },
    {
      "cell_type": "markdown",
      "metadata": {
        "id": "l0N-1u5veCqY"
      },
      "source": [
        "## 4) Vacinação II\n",
        "Gere um *DataFrame* que contenha somente os estabelecimentos que aplicaram vcinas a menores de 18 anos. Nesse *DataFrame* devem conter somente os dados dos estabelecimentos, mais uma coluna sendo a quantidade de vacinas que o estabelecimento aplicou a menores de 18 anos.  \n",
        "  \n",
        "1. crie uma cópia do *DataFrame* original, contendo somente os registros de vacinas realizadas a menores de 18 anos.  \n",
        "2. crie uma lista das colunas desse *DataFrame* com o atributo de *DataFrame* **.columns()**  \n",
        "3. Nesse *DataFrame* faça uma contagem do campo ```vacina_categoria_nome```.\n",
        "3. a partir da lista de colunas, escolha somente aquelas que são referentes ao estabelecimento, faça uma lista com esses valores.  \n",
        "4. usando o método *.loc*, selecione somente essas variáveis  \n",
        "5. Aplique o método **.drop_duplicates** e crie uma lista com uma linha para cada estabelecimento, com os dados do estabelecimento  "
      ]
    },
    {
      "cell_type": "code",
      "execution_count": 203,
      "metadata": {
        "colab": {
          "base_uri": "https://localhost:8080/"
        },
        "id": "y6ZKqf0teCqe",
        "outputId": "0395c798-0443-43d6-86d1-4a0e307dcfc0"
      },
      "outputs": [
        {
          "output_type": "stream",
          "name": "stdout",
          "text": [
            "<class 'pandas.core.frame.DataFrame'>\n",
            "Int64Index: 55 entries, 1567 to 164449\n",
            "Data columns (total 34 columns):\n",
            " #   Column                                    Non-Null Count  Dtype  \n",
            "---  ------                                    --------------  -----  \n",
            " 0   document_id                               55 non-null     object \n",
            " 1   paciente_id                               55 non-null     object \n",
            " 2   paciente_idade                            55 non-null     int64  \n",
            " 3   paciente_datanascimento                   55 non-null     object \n",
            " 4   paciente_enumsexobiologico                55 non-null     object \n",
            " 5   paciente_racacor_codigo                   55 non-null     int64  \n",
            " 6   paciente_racacor_valor                    55 non-null     object \n",
            " 7   paciente_endereco_coibgemunicipio         52 non-null     float64\n",
            " 8   paciente_endereco_copais                  52 non-null     float64\n",
            " 9   paciente_endereco_nmmunicipio             52 non-null     object \n",
            " 10  paciente_endereco_nmpais                  52 non-null     object \n",
            " 11  paciente_endereco_uf                      52 non-null     object \n",
            " 12  paciente_endereco_cep                     42 non-null     float64\n",
            " 13  paciente_nacionalidade_enumnacionalidade  55 non-null     object \n",
            " 14  estabelecimento_valor                     55 non-null     int64  \n",
            " 15  estabelecimento_razaosocial               55 non-null     object \n",
            " 16  estalecimento_nofantasia                  55 non-null     object \n",
            " 17  estabelecimento_municipio_codigo          55 non-null     int64  \n",
            " 18  estabelecimento_municipio_nome            55 non-null     object \n",
            " 19  estabelecimento_uf                        55 non-null     object \n",
            " 20  vacina_grupoatendimento_codigo            55 non-null     int64  \n",
            " 21  vacina_grupoatendimento_nome              54 non-null     object \n",
            " 22  vacina_categoria_codigo                   54 non-null     float64\n",
            " 23  vacina_categoria_nome                     54 non-null     object \n",
            " 24  vacina_lote                               55 non-null     object \n",
            " 25  vacina_fabricante_nome                    55 non-null     object \n",
            " 26  vacina_fabricante_referencia              53 non-null     object \n",
            " 27  vacina_dataaplicacao                      55 non-null     object \n",
            " 28  vacina_descricao_dose                     55 non-null     object \n",
            " 29  vacina_codigo                             55 non-null     int64  \n",
            " 30  vacina_nome                               55 non-null     object \n",
            " 31  sistema_origem                            55 non-null     object \n",
            " 32  data_importacao_rnds                      55 non-null     object \n",
            " 33  id_sistema_origem                         0 non-null      float64\n",
            "dtypes: float64(5), int64(6), object(23)\n",
            "memory usage: 15.0+ KB\n"
          ]
        }
      ],
      "source": [
        "# Criamos uma cópia do DataFrame original, contendo somente os registros de vacinas realizadas a menores de 18 anos.  \n",
        "# Incluímos a função 'info' para mostrar informações sobre o dataframe novo\n",
        "df_menor = df[df[\"paciente_idade\"]<18].copy()\n",
        "df_menor.info()"
      ]
    },
    {
      "cell_type": "code",
      "execution_count": 204,
      "metadata": {
        "colab": {
          "base_uri": "https://localhost:8080/"
        },
        "id": "GXXyN8NMeCqf",
        "outputId": "477a3d2b-3120-4880-9348-a861095a029d"
      },
      "outputs": [
        {
          "output_type": "execute_result",
          "data": {
            "text/plain": [
              "Index(['document_id', 'paciente_id', 'paciente_idade',\n",
              "       'paciente_datanascimento', 'paciente_enumsexobiologico',\n",
              "       'paciente_racacor_codigo', 'paciente_racacor_valor',\n",
              "       'paciente_endereco_coibgemunicipio', 'paciente_endereco_copais',\n",
              "       'paciente_endereco_nmmunicipio', 'paciente_endereco_nmpais',\n",
              "       'paciente_endereco_uf', 'paciente_endereco_cep',\n",
              "       'paciente_nacionalidade_enumnacionalidade', 'estabelecimento_valor',\n",
              "       'estabelecimento_razaosocial', 'estalecimento_nofantasia',\n",
              "       'estabelecimento_municipio_codigo', 'estabelecimento_municipio_nome',\n",
              "       'estabelecimento_uf', 'vacina_grupoatendimento_codigo',\n",
              "       'vacina_grupoatendimento_nome', 'vacina_categoria_codigo',\n",
              "       'vacina_categoria_nome', 'vacina_lote', 'vacina_fabricante_nome',\n",
              "       'vacina_fabricante_referencia', 'vacina_dataaplicacao',\n",
              "       'vacina_descricao_dose', 'vacina_codigo', 'vacina_nome',\n",
              "       'sistema_origem', 'data_importacao_rnds', 'id_sistema_origem'],\n",
              "      dtype='object')"
            ]
          },
          "metadata": {},
          "execution_count": 204
        }
      ],
      "source": [
        "# Criamos uma lista das colunas desse DataFrame com o atributo de DataFrame **.columns()**  \n",
        "df_menor.columns"
      ]
    },
    {
      "cell_type": "code",
      "execution_count": 205,
      "metadata": {
        "colab": {
          "base_uri": "https://localhost:8080/"
        },
        "id": "zMIxOSLCeCqi",
        "outputId": "debed255-daaa-458d-8e8a-2f8d38a21ac7"
      },
      "outputs": [
        {
          "output_type": "execute_result",
          "data": {
            "text/plain": [
              "Povos Indígenas                     33\n",
              "Trabalhadores de Saúde               9\n",
              "Povos e Comunidades Tradicionais     9\n",
              "Comorbidades                         2\n",
              "Faixa Etária                         1\n",
              "Name: vacina_categoria_nome, dtype: int64"
            ]
          },
          "metadata": {},
          "execution_count": 205
        }
      ],
      "source": [
        "# Fazemos uma contagem do campo vacina_categoria_nome.\n",
        "df_menor['vacina_categoria_nome'].value_counts()"
      ]
    },
    {
      "cell_type": "code",
      "execution_count": 206,
      "metadata": {
        "id": "obDpufHSeCqk"
      },
      "outputs": [],
      "source": [
        "# Escolhemos somente as colunas que são referentes ao estabelecimento, criando uma lista com esses valores.\n",
        "lista_variaveis = ['estabelecimento_valor',\n",
        "       'estabelecimento_razaosocial', 'estalecimento_nofantasia',\n",
        "       'estabelecimento_municipio_codigo', 'estabelecimento_municipio_nome',\n",
        "       'estabelecimento_uf']\n",
        "df_menor_lista = df_menor.loc[:,lista_variaveis]"
      ]
    },
    {
      "cell_type": "code",
      "execution_count": 207,
      "metadata": {
        "colab": {
          "base_uri": "https://localhost:8080/"
        },
        "id": "Khd-7rWqeCql",
        "outputId": "42241899-94dc-4676-ad77-cdae9611ddeb"
      },
      "outputs": [
        {
          "output_type": "execute_result",
          "data": {
            "text/plain": [
              "(18, 6)"
            ]
          },
          "metadata": {},
          "execution_count": 207
        }
      ],
      "source": [
        "# Aplicamos o método .drop_duplicates e criamos uma lista com uma linha para cada estabelecimento, com os dados do estabelecimento\n",
        "df_menor_lista = df_menor_lista.drop_duplicates()\n",
        "df_menor_lista.shape"
      ]
    }
  ],
  "metadata": {
    "kernelspec": {
      "display_name": "Python 3",
      "language": "python",
      "name": "python3"
    },
    "language_info": {
      "codemirror_mode": {
        "name": "ipython",
        "version": 3
      },
      "file_extension": ".py",
      "mimetype": "text/x-python",
      "name": "python",
      "nbconvert_exporter": "python",
      "pygments_lexer": "ipython3",
      "version": "3.8.5"
    },
    "toc": {
      "base_numbering": 1,
      "nav_menu": {},
      "number_sections": false,
      "sideBar": true,
      "skip_h1_title": true,
      "title_cell": "Índice",
      "title_sidebar": "Conteúdo",
      "toc_cell": false,
      "toc_position": {},
      "toc_section_display": true,
      "toc_window_display": false
    },
    "varInspector": {
      "cols": {
        "lenName": 16,
        "lenType": 16,
        "lenVar": 40
      },
      "kernels_config": {
        "python": {
          "delete_cmd_postfix": "",
          "delete_cmd_prefix": "del ",
          "library": "var_list.py",
          "varRefreshCmd": "print(var_dic_list())"
        },
        "r": {
          "delete_cmd_postfix": ") ",
          "delete_cmd_prefix": "rm(",
          "library": "var_list.r",
          "varRefreshCmd": "cat(var_dic_list()) "
        }
      },
      "types_to_exclude": [
        "module",
        "function",
        "builtin_function_or_method",
        "instance",
        "_Feature"
      ],
      "window_display": false
    },
    "colab": {
      "provenance": []
    }
  },
  "nbformat": 4,
  "nbformat_minor": 0
}