{
 "cells": [
  {
   "attachments": {},
   "cell_type": "markdown",
   "metadata": {
    "id": "KJqp9AANOCtf"
   },
   "source": [
    "<img src=\"https://raw.githubusercontent.com/andre-marcos-perez/ebac-course-utils/main/media/logo/newebac_logo_black_half.png\" alt=\"ebac-logo\">\n",
    "\n",
    "---\n",
    "\n",
    "# **Módulo** | Python: Programação Funcional\n",
    "Caderno de **Exercícios**<br> \n",
    "Professor [André Perez](https://www.linkedin.com/in/andremarcosperez/)\n",
    "\n",
    "---"
   ]
  },
  {
   "attachments": {},
   "cell_type": "markdown",
   "metadata": {
    "id": "d9jDtUbDOE1-"
   },
   "source": [
    "# **Tópicos**\n",
    "\n",
    "<ol type=\"1\">\n",
    "  <li>Função lambda;</li>\n",
    "  <li>Função map;</li>\n",
    "  <li>Função filter;</li>\n",
    "  <li>Função reduce.</li>\n",
    "</ol>"
   ]
  },
  {
   "attachments": {},
   "cell_type": "markdown",
   "metadata": {
    "id": "SmoHgt-lwkpD"
   },
   "source": [
    "---"
   ]
  },
  {
   "attachments": {},
   "cell_type": "markdown",
   "metadata": {
    "id": "GABI6OW8OfQ2"
   },
   "source": [
    "# **Exercícios**"
   ]
  },
  {
   "attachments": {},
   "cell_type": "markdown",
   "metadata": {
    "id": "muD1vxozykSC"
   },
   "source": [
    "## 0\\. Preparação do ambiente "
   ]
  },
  {
   "attachments": {},
   "cell_type": "markdown",
   "metadata": {
    "id": "ahrFfCuBxJKs"
   },
   "source": [
    "Neste exercício vamos trabalhar com o arquivo csv com dados de crédito, definido abaixo. Execute cada uma das células de código para escrever os arquivos na sua máquina virtual."
   ]
  },
  {
   "cell_type": "code",
   "execution_count": 54,
   "metadata": {
    "id": "Kjt3HvFX7C3A"
   },
   "outputs": [
    {
     "name": "stdout",
     "output_type": "stream",
     "text": [
      "Overwriting credito.csv\n"
     ]
    }
   ],
   "source": [
    "%%writefile credito.csv\n",
    "id_vendedor,valor_emprestimos,quantidade_emprestimos,data\n",
    "104271,448.0,1,20161208\n",
    "21476,826.7,3,20161208\n",
    "87440,313.6,3,20161208\n",
    "15980,-8008.0,6,20161208\n",
    "215906,2212.0,5,20161208\n",
    "33696,2771.3,2,20161208\n",
    "33893,2240.0,3,20161208\n",
    "214946,-4151.0,18,20161208\n",
    "123974,2021.95,2,20161208\n",
    "225870,4039.0,2,20161208"
   ]
  },
  {
   "attachments": {},
   "cell_type": "markdown",
   "metadata": {
    "id": "tnhM9v2X7yGS"
   },
   "source": [
    "Vamos ler o conteúdo do arquivo em uma lista onde cada elemento é um dicionário representando as linhas do arquivo."
   ]
  },
  {
   "cell_type": "code",
   "execution_count": 55,
   "metadata": {
    "id": "T00Y_WIh7uPU"
   },
   "outputs": [],
   "source": [
    "emprestimos = []\n",
    "with open(file='./credito.csv', mode='r', encoding='utf8') as fp:\n",
    "  fp.readline() # cabeçalho\n",
    "  linha = fp.readline()\n",
    "  while linha:\n",
    "    linha_emprestimo = {}\n",
    "    linha_elementos = linha.strip().split(sep=',')\n",
    "    linha_emprestimo['id_vendedor'] = linha_elementos[0]\n",
    "    linha_emprestimo['valor_emprestimos'] = linha_elementos[1]\n",
    "    linha_emprestimo['quantidade_emprestimos'] = linha_elementos[2]\n",
    "    linha_emprestimo['data'] = linha_elementos[3]\n",
    "    emprestimos.append(linha_emprestimo)\n",
    "    linha = fp.readline()"
   ]
  },
  {
   "cell_type": "code",
   "execution_count": 56,
   "metadata": {
    "id": "Bp0ZgdTM84bw"
   },
   "outputs": [
    {
     "name": "stdout",
     "output_type": "stream",
     "text": [
      "{'id_vendedor': '104271', 'valor_emprestimos': '448.0', 'quantidade_emprestimos': '1', 'data': '20161208'}\n",
      "{'id_vendedor': '21476', 'valor_emprestimos': '826.7', 'quantidade_emprestimos': '3', 'data': '20161208'}\n",
      "{'id_vendedor': '87440', 'valor_emprestimos': '313.6', 'quantidade_emprestimos': '3', 'data': '20161208'}\n",
      "{'id_vendedor': '15980', 'valor_emprestimos': '-8008.0', 'quantidade_emprestimos': '6', 'data': '20161208'}\n",
      "{'id_vendedor': '215906', 'valor_emprestimos': '2212.0', 'quantidade_emprestimos': '5', 'data': '20161208'}\n",
      "{'id_vendedor': '33696', 'valor_emprestimos': '2771.3', 'quantidade_emprestimos': '2', 'data': '20161208'}\n",
      "{'id_vendedor': '33893', 'valor_emprestimos': '2240.0', 'quantidade_emprestimos': '3', 'data': '20161208'}\n",
      "{'id_vendedor': '214946', 'valor_emprestimos': '-4151.0', 'quantidade_emprestimos': '18', 'data': '20161208'}\n",
      "{'id_vendedor': '123974', 'valor_emprestimos': '2021.95', 'quantidade_emprestimos': '2', 'data': '20161208'}\n",
      "{'id_vendedor': '225870', 'valor_emprestimos': '4039.0', 'quantidade_emprestimos': '2', 'data': '20161208'}\n"
     ]
    }
   ],
   "source": [
    "for emprestimo in emprestimos:\n",
    "  print(emprestimo)"
   ]
  },
  {
   "attachments": {},
   "cell_type": "markdown",
   "metadata": {
    "id": "KI9zQRT2xa7m"
   },
   "source": [
    "## 1\\. Função `map`\n",
    "\n"
   ]
  },
  {
   "attachments": {},
   "cell_type": "markdown",
   "metadata": {
    "id": "U63MjM7H7o1Y"
   },
   "source": [
    "Aplique a função map na lista de `emprestimos` para extrair os valores da chave `valor_emprestimos` na lista `valor_emprestimos_lista`. Faça também a conversão de `str` para `float`."
   ]
  },
  {
   "cell_type": "code",
   "execution_count": 57,
   "metadata": {
    "id": "-yAW4PJh9h7a"
   },
   "outputs": [],
   "source": [
    "# Criamos a variável valor_emprestimos_lista\n",
    "# Atribuimos a variável uma conversão para lista\n",
    "# Aplicamos a função map para extrair os valores da chave 'valor_emprestimos' na lista 'valor_emprestimos_lista'\n",
    "valor_emprestimos_lista = list(map(lambda emprestimo: float(emprestimo['valor_emprestimos']), emprestimos))\n"
   ]
  },
  {
   "cell_type": "code",
   "execution_count": 58,
   "metadata": {
    "id": "MQUvYdzJ9ndC"
   },
   "outputs": [
    {
     "name": "stdout",
     "output_type": "stream",
     "text": [
      "[448.0, 826.7, 313.6, -8008.0, 2212.0, 2771.3, 2240.0, -4151.0, 2021.95, 4039.0]\n"
     ]
    }
   ],
   "source": [
    "# Imprimimos os valores da lista 'valor_emprestimos_lista'\n",
    "print(valor_emprestimos_lista) "
   ]
  },
  {
   "attachments": {},
   "cell_type": "markdown",
   "metadata": {
    "id": "zMN1Q3jdwoJm"
   },
   "source": [
    "---"
   ]
  },
  {
   "attachments": {},
   "cell_type": "markdown",
   "metadata": {
    "id": "WKHvMtFX_JKH"
   },
   "source": [
    "## 2\\. Função `filter`\n",
    "\n"
   ]
  },
  {
   "attachments": {},
   "cell_type": "markdown",
   "metadata": {
    "id": "6V34N3Lf_gUM"
   },
   "source": [
    "Aplique a função filter na lista de `valor_emprestimos_lista` para filtrar apenas os valores maiores que zero (os valores negativas são erros na base de dados). Salve os valores na lista `valor_emprestimos_lista_filtrada`."
   ]
  },
  {
   "cell_type": "code",
   "execution_count": 59,
   "metadata": {
    "id": "3y7Vmm0yACuk"
   },
   "outputs": [],
   "source": [
    "# Criamos a variável 'valor_emprestimos_lista_filtrada'\n",
    "# Definimos os parâmetros função e coleção\n",
    "# Função é descrito pela expressão 'lambda num: num > 0'\n",
    "# Coleção é descrito pela variável 'valor_emprestimos_lista'\n",
    "# Aplicamos filter para aplicar uma função lógica que retorna uma booleano em todos os elementos da coleção \n",
    "# Convertemos para lista usando a função 'list'\n",
    "valor_emprestimos_lista_filtrada = list(filter(lambda num: num > 0,valor_emprestimos_lista))\n"
   ]
  },
  {
   "cell_type": "code",
   "execution_count": 60,
   "metadata": {
    "id": "socxMS6NADsM"
   },
   "outputs": [
    {
     "name": "stdout",
     "output_type": "stream",
     "text": [
      "[448.0, 826.7, 313.6, 2212.0, 2771.3, 2240.0, 2021.95, 4039.0]\n"
     ]
    }
   ],
   "source": [
    "# Imprimimos o resultado\n",
    "print(valor_emprestimos_lista_filtrada)# [448.0, 826.7, ..., 4039.0]"
   ]
  },
  {
   "attachments": {},
   "cell_type": "markdown",
   "metadata": {
    "id": "4yqCAVCo_Yp3"
   },
   "source": [
    "---"
   ]
  },
  {
   "attachments": {},
   "cell_type": "markdown",
   "metadata": {
    "id": "s4TzfRxC_Yp4"
   },
   "source": [
    "## 3\\. Função `reduce`\n",
    "\n"
   ]
  },
  {
   "attachments": {},
   "cell_type": "markdown",
   "metadata": {
    "id": "RwV4V7gDAWfJ"
   },
   "source": [
    "Com a nossa lista de valores de emprestimo pronta, vamos extrair algumas métricas."
   ]
  },
  {
   "attachments": {},
   "cell_type": "markdown",
   "metadata": {
    "id": "zjXA6H0LAf1_"
   },
   "source": [
    "### 3\\.1\\. Função `reduce` para extrair a **soma**"
   ]
  },
  {
   "attachments": {},
   "cell_type": "markdown",
   "metadata": {
    "id": "u1kxPpkUArKw"
   },
   "source": [
    "Aplique a função reduce para somar os elementos da lista `valor_emprestimos_lista_filtrada` na variavel `soma_valor_emprestimos`."
   ]
  },
  {
   "cell_type": "code",
   "execution_count": 61,
   "metadata": {
    "id": "ptAFEVpMAr6_"
   },
   "outputs": [],
   "source": [
    "# Importamos o método 'reduce' da biblioteca 'functools'\n",
    "# Criamos a variável 'soma_valor_emprestimos'\n",
    "# Definimos os parâmetros função e coleção\n",
    "# Função é descrito pela expressão 'lambda num1,num2: num1+num2'\n",
    "# Coleção é descrito pela variável 'valor_emprestimos_lista_filtrada'\n",
    "# Aplicamos reduce para aplicar uma função em todos os elementos da coleção, de dois em dois elementos retornando apenas um. \n",
    "from functools import reduce\n",
    "\n",
    "soma_valor_emprestimos = reduce(lambda num1,num2: num1 + num2,valor_emprestimos_lista_filtrada)"
   ]
  },
  {
   "cell_type": "code",
   "execution_count": 62,
   "metadata": {
    "id": "fPosL2LZBDxz"
   },
   "outputs": [
    {
     "name": "stdout",
     "output_type": "stream",
     "text": [
      "14872.550000000001\n"
     ]
    }
   ],
   "source": [
    "# Imprimimos o resultado\n",
    "print(soma_valor_emprestimos) # 14872.550000000001"
   ]
  },
  {
   "attachments": {},
   "cell_type": "markdown",
   "metadata": {
    "id": "v8h9TkYqBLPn"
   },
   "source": [
    "### 3\\.2\\. Função `reduce` para extrair a **media aritimética**"
   ]
  },
  {
   "attachments": {},
   "cell_type": "markdown",
   "metadata": {
    "id": "VXsNI53NBLPo"
   },
   "source": [
    "Aplique a função reduce para extrair a média aritimética (mais informações [aqui](https://pt.wikipedia.org/wiki/M%C3%A9dia#M%C3%A9dia_aritm%C3%A9tica)) dos elementos da lista `valor_emprestimos_lista_filtrada` na variavel `media_valor_emprestimos`.\n",
    "\n",
    "Dica: Para calcular o tamanho da lista, isto é a quantidade de elementos, utilize a função len(), dentro do argumento da função coloque a lista `valor_emprestimos_lista_filtrada`."
   ]
  },
  {
   "cell_type": "code",
   "execution_count": 63,
   "metadata": {
    "id": "qbWv8a2GBLPp"
   },
   "outputs": [],
   "source": [
    "# Importamos o método 'reduce' da biblioteca 'functools'\n",
    "# Criamos a variável 'media_valor_emprestimos'\n",
    "# Atribuímos a variável a divisão entre a variável 'soma_valor_emprestimos' e a função 'len' aplicada a coleção 'valor_emprestimos_lista_filtrada'\n",
    "# A função len calcula a quantidade de elementos de uma coleção \n",
    "\n",
    "from functools import reduce\n",
    "\n",
    "media_valor_emprestimos = soma_valor_emprestimos / len(valor_emprestimos_lista_filtrada)"
   ]
  },
  {
   "cell_type": "code",
   "execution_count": 64,
   "metadata": {
    "id": "V-hh5hCKBLPr"
   },
   "outputs": [
    {
     "name": "stdout",
     "output_type": "stream",
     "text": [
      "1859.0687500000001\n"
     ]
    }
   ],
   "source": [
    "print(media_valor_emprestimos) # 1859.0687500000001"
   ]
  },
  {
   "attachments": {},
   "cell_type": "markdown",
   "metadata": {
    "id": "rCwM3DcJBeyB"
   },
   "source": [
    "### 3\\.3\\. (**Desafio**) Função `reduce` para extrair o **desvio padrão amostral**"
   ]
  },
  {
   "attachments": {},
   "cell_type": "markdown",
   "metadata": {
    "id": "jw3azoT_BeyC"
   },
   "source": [
    "Aplique a função reduce para extrair a média aritimética (mais informações [aqui](https://pt.wikipedia.org/wiki/M%C3%A9dia#M%C3%A9dia_aritm%C3%A9tica)) dos elementos da lista `valor_emprestimos_lista_filtrada` na variavel `desvio_padrao_valor_emprestimos`.\n",
    "\n"
   ]
  },
  {
   "cell_type": "code",
   "execution_count": 72,
   "metadata": {
    "id": "8HnNxp9mBeyD"
   },
   "outputs": [],
   "source": [
    "from functools import reduce\n",
    "import math\n",
    "\n",
    "soma_quadrados_diferencas = reduce(lambda acc, num: acc + (num - media_valor_emprestimos)**2, valor_emprestimos_lista_filtrada, 0)\n",
    "variancia_valor_emprestimos = soma_quadrados_diferencas / (len(valor_emprestimos_lista_filtrada) - 1)\n",
    "desvio_padrao_valor_emprestimos = math.sqrt(variancia_valor_emprestimos)"
   ]
  },
  {
   "cell_type": "code",
   "execution_count": 73,
   "metadata": {
    "id": "3dDC-KRYBeyE"
   },
   "outputs": [
    {
     "name": "stdout",
     "output_type": "stream",
     "text": [
      "1271.9972711497849\n"
     ]
    }
   ],
   "source": [
    "print(desvio_padrao_valor_emprestimos) # 1271.997271149785"
   ]
  },
  {
   "attachments": {},
   "cell_type": "markdown",
   "metadata": {
    "id": "ai2mZYnG_b_s"
   },
   "source": [
    "---"
   ]
  }
 ],
 "metadata": {
  "colab": {
   "authorship_tag": "ABX9TyMlUK9xJOpd5gbKZy74FxdO",
   "collapsed_sections": [],
   "name": "module_5_exercise.ipynb",
   "provenance": [],
   "toc_visible": true
  },
  "kernelspec": {
   "display_name": "Python 3 (ipykernel)",
   "language": "python",
   "name": "python3"
  },
  "language_info": {
   "codemirror_mode": {
    "name": "ipython",
    "version": 3
   },
   "file_extension": ".py",
   "mimetype": "text/x-python",
   "name": "python",
   "nbconvert_exporter": "python",
   "pygments_lexer": "ipython3",
   "version": "3.11.4"
  }
 },
 "nbformat": 4,
 "nbformat_minor": 1
}
