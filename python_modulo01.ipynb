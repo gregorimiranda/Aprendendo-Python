{
  "nbformat": 4,
  "nbformat_minor": 0,
  "metadata": {
    "colab": {
      "provenance": [],
      "collapsed_sections": [
        "tZ0-7FqZNp5u",
        "rRlj2VFvNntZ"
      ],
      "toc_visible": true,
      "authorship_tag": "ABX9TyMgURhAcbvpzaRZCy8GZa15",
      "include_colab_link": true
    },
    "kernelspec": {
      "name": "python3",
      "display_name": "Python 3"
    },
    "language_info": {
      "name": "python"
    }
  },
  "cells": [
    {
      "cell_type": "markdown",
      "metadata": {
        "id": "view-in-github",
        "colab_type": "text"
      },
      "source": [
        "<a href=\"https://colab.research.google.com/github/gregorimiranda/Aprendendo-Python/blob/main/python_modulo01.ipynb\" target=\"_parent\"><img src=\"https://colab.research.google.com/assets/colab-badge.svg\" alt=\"Open In Colab\"/></a>"
      ]
    },
    {
      "cell_type": "markdown",
      "source": [
        "# **1. Aprendendo a usar o Google Colab**\n",
        "\n",
        "O Colaboratory ou “Colab” é um produto do Google Research, área de pesquisas científicas do Google. O Colab permite que qualquer pessoa escreva e execute código Python arbitrário pelo navegador e é especialmente adequado para aprendizado de máquina, análise de dados e educação.\n",
        "\n",
        "*Fonte*: \n",
        "https://research.google.com/colaboratory/intl/pt-BR/faq.html#:~:text=O%20Colaboratory%20ou%20%E2%80%9CColab%E2%80%9D%20%C3%A9,an%C3%A1lise%20de%20dados%20e%20educa%C3%A7%C3%A3o."
      ],
      "metadata": {
        "id": "tZ0-7FqZNp5u"
      }
    },
    {
      "cell_type": "markdown",
      "source": [
        "## **1.1 Boas práticas**"
      ],
      "metadata": {
        "id": "eoxO9cvyfpex"
      }
    },
    {
      "cell_type": "markdown",
      "source": [
        "## **1.2 Escrevendo a função Print**"
      ],
      "metadata": {
        "id": "rRlj2VFvNntZ"
      }
    },
    {
      "cell_type": "code",
      "source": [
        "print(\"Olá, mundo!\")"
      ],
      "metadata": {
        "colab": {
          "base_uri": "https://localhost:8080/"
        },
        "id": "QHjrwEb1N0E4",
        "outputId": "0dd2357c-657c-459f-c4ad-f061f11a98e9"
      },
      "execution_count": null,
      "outputs": [
        {
          "output_type": "stream",
          "name": "stdout",
          "text": [
            "Olá, mundo!\n"
          ]
        }
      ]
    },
    {
      "cell_type": "markdown",
      "source": [
        "# **2. Variáveis e tipos de dados**"
      ],
      "metadata": {
        "id": "gawMtKxoQjWG"
      }
    },
    {
      "cell_type": "markdown",
      "source": [
        "## **2.1 Incluindo variáveis**"
      ],
      "metadata": {
        "id": "3tIHlYceSigw"
      }
    },
    {
      "cell_type": "code",
      "source": [
        "idade = 30\n",
        "print(idade)\n",
        "\n",
        "idade = 27\n",
        "print(idade)\n",
        "\n",
        "nome = \"Gregori\"\n",
        "print(nome)\n"
      ],
      "metadata": {
        "colab": {
          "base_uri": "https://localhost:8080/"
        },
        "id": "Y66PfoktR3yx",
        "outputId": "303404d6-b3df-48d0-bda8-50fed9fd5b31"
      },
      "execution_count": null,
      "outputs": [
        {
          "output_type": "stream",
          "name": "stdout",
          "text": [
            "30\n",
            "27\n",
            "Gregori\n"
          ]
        }
      ]
    },
    {
      "cell_type": "markdown",
      "source": [
        " ## **2.2 Tipos nativos**"
      ],
      "metadata": {
        "id": "syRxCcXJfNYl"
      }
    },
    {
      "cell_type": "markdown",
      "source": [
        "\n",
        "\n",
        "*   ### **Tipos númericos** \n",
        " * *Inteiros e decimais* (int e float)\n",
        "*   ### **Tipos de textos** \n",
        " * *strings* (str)\n",
        "*   ### **Tipos lógicos** \n",
        " * *Booleanos* (bool)\n",
        "*   ### **Tipos vazios**\n",
        " * *None* (NoneType)\n",
        "\n",
        "\n",
        "\n"
      ],
      "metadata": {
        "id": "ldX5S61jTK5V"
      }
    }
  ]
}