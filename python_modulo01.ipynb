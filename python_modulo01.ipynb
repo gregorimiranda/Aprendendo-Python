{
  "nbformat": 4,
  "nbformat_minor": 0,
  "metadata": {
    "colab": {
      "provenance": [],
      "collapsed_sections": [
        "tZ0-7FqZNp5u",
        "rRlj2VFvNntZ"
      ],
      "toc_visible": true,
      "authorship_tag": "ABX9TyNDDrCJtl5IWP6aEhdEf9ig"
    },
    "kernelspec": {
      "name": "python3",
      "display_name": "Python 3"
    },
    "language_info": {
      "name": "python"
    }
  },
  "cells": [
    {
      "cell_type": "markdown",
      "source": [
        "# **1. Aprendendo a usar o Google Colab**"
      ],
      "metadata": {
        "id": "tZ0-7FqZNp5u"
      }
    },
    {
      "cell_type": "markdown",
      "source": [
        "## **1.1 Escrevendo a função Print**"
      ],
      "metadata": {
        "id": "rRlj2VFvNntZ"
      }
    },
    {
      "cell_type": "code",
      "source": [
        "print(\"Olá, mundo!\")"
      ],
      "metadata": {
        "colab": {
          "base_uri": "https://localhost:8080/"
        },
        "id": "QHjrwEb1N0E4",
        "outputId": "0dd2357c-657c-459f-c4ad-f061f11a98e9"
      },
      "execution_count": null,
      "outputs": [
        {
          "output_type": "stream",
          "name": "stdout",
          "text": [
            "Olá, mundo!\n"
          ]
        }
      ]
    },
    {
      "cell_type": "markdown",
      "source": [
        "# **2. Variáveis e tipos de dados**"
      ],
      "metadata": {
        "id": "gawMtKxoQjWG"
      }
    },
    {
      "cell_type": "markdown",
      "source": [
        "## **2.1 Incluindo variáveis**"
      ],
      "metadata": {
        "id": "3tIHlYceSigw"
      }
    },
    {
      "cell_type": "code",
      "source": [
        "idade = 30\n",
        "print(idade)\n",
        "\n",
        "idade = 27\n",
        "print(idade)\n",
        "\n",
        "nome = \"Gregori\"\n",
        "print(nome)\n"
      ],
      "metadata": {
        "colab": {
          "base_uri": "https://localhost:8080/"
        },
        "id": "Y66PfoktR3yx",
        "outputId": "303404d6-b3df-48d0-bda8-50fed9fd5b31"
      },
      "execution_count": null,
      "outputs": [
        {
          "output_type": "stream",
          "name": "stdout",
          "text": [
            "30\n",
            "27\n",
            "Gregori\n"
          ]
        }
      ]
    },
    {
      "cell_type": "markdown",
      "source": [
        "\n",
        "\n",
        "*   ### **Tipos númericos** \n",
        " * *Inteiros e decimais* (int e float)\n",
        "*   ### **Tipos de textos** \n",
        " * *strings* (str)\n",
        "*   ### **Tipos lógicos** \n",
        " * *Booleanos* (bool)\n",
        "*   ### **Tipos vazios**\n",
        " * *None* (NoneType)\n",
        "\n",
        "\n",
        "\n"
      ],
      "metadata": {
        "id": "ldX5S61jTK5V"
      }
    },
    {
      "cell_type": "markdown",
      "source": [
        "## **2.2 Tipos de variáveis**"
      ],
      "metadata": {
        "id": "KI1iqpGGSrFA"
      }
    },
    {
      "cell_type": "markdown",
      "source": [
        "## **Numéricos (Int & Float)**"
      ],
      "metadata": {
        "id": "eyGIQZwch_lK"
      }
    },
    {
      "cell_type": "code",
      "source": [
        "preco_da_banana = 1\n",
        "tipo_de_preco = type(preco_da_banana)\n",
        "\n",
        "juros = 0.15\n",
        "tipo_de_juros = type(juros)\n",
        "\n",
        "print(preco_da_banana)\n",
        "print(tipo_do_preco)\n",
        "\n",
        "print(juros)\n",
        "print(tipo_de_juros)\n"
      ],
      "metadata": {
        "id": "R7dwY_blSp-d",
        "colab": {
          "base_uri": "https://localhost:8080/",
          "height": 253
        },
        "outputId": "d1335c4a-c18c-45eb-c56c-c068e8883eee"
      },
      "execution_count": 4,
      "outputs": [
        {
          "output_type": "stream",
          "name": "stdout",
          "text": [
            "1\n"
          ]
        },
        {
          "output_type": "error",
          "ename": "NameError",
          "evalue": "ignored",
          "traceback": [
            "\u001b[0;31m---------------------------------------------------------------------------\u001b[0m",
            "\u001b[0;31mNameError\u001b[0m                                 Traceback (most recent call last)",
            "\u001b[0;32m<ipython-input-4-3d32e71eea49>\u001b[0m in \u001b[0;36m<module>\u001b[0;34m\u001b[0m\n\u001b[1;32m      6\u001b[0m \u001b[0;34m\u001b[0m\u001b[0m\n\u001b[1;32m      7\u001b[0m \u001b[0mprint\u001b[0m\u001b[0;34m(\u001b[0m\u001b[0mpreco_da_banana\u001b[0m\u001b[0;34m)\u001b[0m\u001b[0;34m\u001b[0m\u001b[0;34m\u001b[0m\u001b[0m\n\u001b[0;32m----> 8\u001b[0;31m \u001b[0mprint\u001b[0m\u001b[0;34m(\u001b[0m\u001b[0mtipo_do_preco\u001b[0m\u001b[0;34m)\u001b[0m\u001b[0;34m\u001b[0m\u001b[0;34m\u001b[0m\u001b[0m\n\u001b[0m\u001b[1;32m      9\u001b[0m \u001b[0;34m\u001b[0m\u001b[0m\n\u001b[1;32m     10\u001b[0m \u001b[0mprint\u001b[0m\u001b[0;34m(\u001b[0m\u001b[0mjuros\u001b[0m\u001b[0;34m)\u001b[0m\u001b[0;34m\u001b[0m\u001b[0;34m\u001b[0m\u001b[0m\n",
            "\u001b[0;31mNameError\u001b[0m: name 'tipo_do_preco' is not defined"
          ]
        }
      ]
    },
    {
      "cell_type": "code",
      "source": [],
      "metadata": {
        "id": "8oL_6mrriIc0"
      },
      "execution_count": null,
      "outputs": []
    }
  ]
}